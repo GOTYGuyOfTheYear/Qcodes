{
 "cells": [
  {
   "cell_type": "markdown",
   "metadata": {},
   "source": [
    "# Complex Numbers\n",
    "\n",
    "QCoDeS natively supports complex numbers via the complex datatypes of `numpy`."
   ]
  },
  {
   "cell_type": "code",
   "execution_count": 1,
   "metadata": {
    "execution": {
     "iopub.execute_input": "2024-10-29T11:28:26.172818Z",
     "iopub.status.busy": "2024-10-29T11:28:26.172646Z",
     "iopub.status.idle": "2024-10-29T11:28:26.225262Z",
     "shell.execute_reply": "2024-10-29T11:28:26.224728Z"
    }
   },
   "outputs": [],
   "source": [
    "import numpy as np"
   ]
  },
  {
   "cell_type": "markdown",
   "metadata": {},
   "source": [
    "## Complex-valued parameters\n",
    "\n",
    "QCoDeS parameters can take complex values. There are two types of complex-valued parameters: scalar-valued parameters and array-valued parameters."
   ]
  },
  {
   "cell_type": "markdown",
   "metadata": {},
   "source": [
    "### Scalar-valued parameters\n",
    "\n",
    "Let us create a complex-valued parameter and `set` and `get` values for it. An example that one might encounter in physics is the complex impedance.\n",
    "\n",
    "For any QCoDeS parameter, it holds that adding **input validation** is a good idea. Complex parameters are no exception. We therefore use the `ComplexNumbers` validator with our complex parameter."
   ]
  },
  {
   "cell_type": "code",
   "execution_count": 2,
   "metadata": {
    "execution": {
     "iopub.execute_input": "2024-10-29T11:28:26.228435Z",
     "iopub.status.busy": "2024-10-29T11:28:26.227650Z",
     "iopub.status.idle": "2024-10-29T11:28:26.819667Z",
     "shell.execute_reply": "2024-10-29T11:28:26.819129Z"
    }
   },
   "outputs": [
    {
     "name": "stdout",
     "output_type": "stream",
     "text": [
      "Logging hadn't been started.\n",
      "Activating auto-logging. Current session state plus future input saved.\n",
      "Filename       : /home/runner/.qcodes/logs/command_history.log\n",
      "Mode           : append\n",
      "Output logging : True\n",
      "Raw input log  : False\n",
      "Timestamping   : True\n",
      "State          : active\n"
     ]
    },
    {
     "name": "stdout",
     "output_type": "stream",
     "text": [
      "Qcodes Logfile : /home/runner/.qcodes/logs/241029-19747-qcodes.log\n"
     ]
    }
   ],
   "source": [
    "from qcodes.parameters import Parameter\n",
    "from qcodes.validators import ComplexNumbers"
   ]
  },
  {
   "cell_type": "code",
   "execution_count": 3,
   "metadata": {
    "execution": {
     "iopub.execute_input": "2024-10-29T11:28:26.821612Z",
     "iopub.status.busy": "2024-10-29T11:28:26.821182Z",
     "iopub.status.idle": "2024-10-29T11:28:26.824515Z",
     "shell.execute_reply": "2024-10-29T11:28:26.823952Z"
    }
   },
   "outputs": [],
   "source": [
    "imp = Parameter(\n",
    "    name=\"imp\",\n",
    "    label=\"Impedance\",\n",
    "    unit=\"Ohm\",\n",
    "    initial_value=50 + 0j,\n",
    "    set_cmd=None,\n",
    "    get_cmd=None,\n",
    "    vals=ComplexNumbers(),\n",
    ")"
   ]
  },
  {
   "cell_type": "markdown",
   "metadata": {},
   "source": [
    "The `ComplexNumbers` validator requires explicitly complex values. `float`s and `int`s will *not* pass."
   ]
  },
  {
   "cell_type": "code",
   "execution_count": 4,
   "metadata": {
    "execution": {
     "iopub.execute_input": "2024-10-29T11:28:26.826178Z",
     "iopub.status.busy": "2024-10-29T11:28:26.825870Z",
     "iopub.status.idle": "2024-10-29T11:28:26.829771Z",
     "shell.execute_reply": "2024-10-29T11:28:26.829248Z"
    }
   },
   "outputs": [
    {
     "name": "stdout",
     "output_type": "stream",
     "text": [
      "Sorry, but 1.0 is not complex\n",
      "Sorry, but -1.0 is not complex\n",
      "Sorry, but 8.2 is not complex\n",
      "Sorry, but 3.141592653589793 is not complex\n"
     ]
    }
   ],
   "source": [
    "for value in np.array([1, -1, 8.2, np.pi]):\n",
    "    try:\n",
    "        imp(value)\n",
    "        print(f\"Succesfully set the parameter to {value}\")\n",
    "    except TypeError:\n",
    "        print(f\"Sorry, but {value} is not complex\")"
   ]
  },
  {
   "cell_type": "markdown",
   "metadata": {},
   "source": [
    "The easiest way to make a scalar value complex is probably by adding `0j` to it."
   ]
  },
  {
   "cell_type": "code",
   "execution_count": 5,
   "metadata": {
    "execution": {
     "iopub.execute_input": "2024-10-29T11:28:26.831563Z",
     "iopub.status.busy": "2024-10-29T11:28:26.831223Z",
     "iopub.status.idle": "2024-10-29T11:28:26.834943Z",
     "shell.execute_reply": "2024-10-29T11:28:26.834367Z"
    }
   },
   "outputs": [
    {
     "name": "stdout",
     "output_type": "stream",
     "text": [
      "Succesfully set the parameter to (1+0j)\n",
      "Succesfully set the parameter to (-1+0j)\n",
      "Succesfully set the parameter to (8.2+0j)\n",
      "Succesfully set the parameter to (3.141592653589793+0j)\n"
     ]
    }
   ],
   "source": [
    "for value in np.array([1, -1, 8.2, np.pi]) + 0j:\n",
    "    try:\n",
    "        imp(value)\n",
    "        print(f\"Succesfully set the parameter to {value}\")\n",
    "    except TypeError:\n",
    "        print(f\"Sorry, but {value} is not complex\")"
   ]
  },
  {
   "cell_type": "markdown",
   "metadata": {},
   "source": [
    "### Array-valued parameters\n",
    "\n",
    "There is no separate complex-valued array validator, since the `Arrays` validator can be customized to cover any real or complex valued case.\n",
    "\n",
    "Let's make a little array to hold some quantum state amplitudes. Let's pretend to be in a 5-dimensional Hilbert space. Our state parameter should thus hold 5 complex numbers (the state expansion coefficients in some implicit basis)."
   ]
  },
  {
   "cell_type": "code",
   "execution_count": 6,
   "metadata": {
    "execution": {
     "iopub.execute_input": "2024-10-29T11:28:26.836816Z",
     "iopub.status.busy": "2024-10-29T11:28:26.836517Z",
     "iopub.status.idle": "2024-10-29T11:28:26.839277Z",
     "shell.execute_reply": "2024-10-29T11:28:26.838723Z"
    }
   },
   "outputs": [],
   "source": [
    "from qcodes.validators import Arrays"
   ]
  },
  {
   "cell_type": "markdown",
   "metadata": {},
   "source": [
    "The proper validator should accept complex numbers and should reject anything of the wrong shape. Note that we get to decide whether we want to accept \"non-strictly complex\" data."
   ]
  },
  {
   "cell_type": "code",
   "execution_count": 7,
   "metadata": {
    "execution": {
     "iopub.execute_input": "2024-10-29T11:28:26.841043Z",
     "iopub.status.busy": "2024-10-29T11:28:26.840698Z",
     "iopub.status.idle": "2024-10-29T11:28:26.843804Z",
     "shell.execute_reply": "2024-10-29T11:28:26.843328Z"
    }
   },
   "outputs": [],
   "source": [
    "amps_val_strict = Arrays(shape=(5,), valid_types=(np.complexfloating,))\n",
    "amps_val_lax = Arrays(\n",
    "    shape=(5,), valid_types=(np.complexfloating, np.floating, np.integer)\n",
    ")"
   ]
  },
  {
   "cell_type": "markdown",
   "metadata": {},
   "source": [
    "The strict validator is strict:"
   ]
  },
  {
   "cell_type": "code",
   "execution_count": 8,
   "metadata": {
    "execution": {
     "iopub.execute_input": "2024-10-29T11:28:26.845571Z",
     "iopub.status.busy": "2024-10-29T11:28:26.845192Z",
     "iopub.status.idle": "2024-10-29T11:28:26.849619Z",
     "shell.execute_reply": "2024-10-29T11:28:26.849145Z"
    }
   },
   "outputs": [
    {
     "name": "stdout",
     "output_type": "stream",
     "text": [
      "Sorry, but integers are not strictly complex\n",
      "Sorry, but floats are not strictly complex\n"
     ]
    }
   ],
   "source": [
    "try:\n",
    "    amps_val_strict.validate(np.array([1, 2, 3, 4, 5]))\n",
    "except TypeError:\n",
    "    print(\"Sorry, but integers are not strictly complex\")\n",
    "\n",
    "try:\n",
    "    amps_val_strict.validate(np.array([1.0, 2.0, 3.0, 4.0, 5.0]))\n",
    "except TypeError:\n",
    "    print(\"Sorry, but floats are not strictly complex\")"
   ]
  },
  {
   "cell_type": "markdown",
   "metadata": {},
   "source": [
    "But note, that the presence of a single imaginary part will cast the whole array as complex:"
   ]
  },
  {
   "cell_type": "code",
   "execution_count": 9,
   "metadata": {
    "execution": {
     "iopub.execute_input": "2024-10-29T11:28:26.851383Z",
     "iopub.status.busy": "2024-10-29T11:28:26.851050Z",
     "iopub.status.idle": "2024-10-29T11:28:26.855126Z",
     "shell.execute_reply": "2024-10-29T11:28:26.854649Z"
    }
   },
   "outputs": [
    {
     "name": "stdout",
     "output_type": "stream",
     "text": [
      "[1.+0.j 2.+0.j 3.+0.j 4.+0.j 5.+0.j]\n",
      "complex128\n",
      "Yeah, those are complex numbers\n"
     ]
    }
   ],
   "source": [
    "my_array = np.array([1.0 + 0j, 2.0, 3.0, 4.0, 5.0])\n",
    "print(my_array)\n",
    "print(my_array.dtype)\n",
    "amps_val_strict.validate(np.array([1.0 + 0j, 2.0, 3.0, 4.0, 5.0]))\n",
    "print(\"Yeah, those are complex numbers\")"
   ]
  },
  {
   "cell_type": "markdown",
   "metadata": {},
   "source": [
    "The lax validator let's everything through:"
   ]
  },
  {
   "cell_type": "code",
   "execution_count": 10,
   "metadata": {
    "execution": {
     "iopub.execute_input": "2024-10-29T11:28:26.856899Z",
     "iopub.status.busy": "2024-10-29T11:28:26.856479Z",
     "iopub.status.idle": "2024-10-29T11:28:26.859684Z",
     "shell.execute_reply": "2024-10-29T11:28:26.859221Z"
    }
   },
   "outputs": [],
   "source": [
    "amps_val_lax.validate(np.array([1, 2, 3, 4, 5]))\n",
    "amps_val_lax.validate(np.array([1.0, 2.0, 3.0, 4.0, 5.0]))\n",
    "amps_val_lax.validate(np.array([1.0 + 0j, 2, 3, 4, 5]))"
   ]
  },
  {
   "cell_type": "markdown",
   "metadata": {},
   "source": [
    "We can use either validator for the parameter."
   ]
  },
  {
   "cell_type": "code",
   "execution_count": 11,
   "metadata": {
    "execution": {
     "iopub.execute_input": "2024-10-29T11:28:26.861415Z",
     "iopub.status.busy": "2024-10-29T11:28:26.861101Z",
     "iopub.status.idle": "2024-10-29T11:28:26.864490Z",
     "shell.execute_reply": "2024-10-29T11:28:26.863915Z"
    }
   },
   "outputs": [],
   "source": [
    "amplitudes = Parameter(\n",
    "    name=\"amplitudes\",\n",
    "    label=\"Amplitudes\",\n",
    "    unit=\"\",\n",
    "    set_cmd=None,\n",
    "    get_cmd=None,\n",
    "    vals=amps_val_strict,\n",
    "    initial_value=(1 / np.sqrt(2) * np.array([1 + 1j, 0, 0, 0, 0])),\n",
    ")"
   ]
  },
  {
   "cell_type": "code",
   "execution_count": 12,
   "metadata": {
    "execution": {
     "iopub.execute_input": "2024-10-29T11:28:26.866364Z",
     "iopub.status.busy": "2024-10-29T11:28:26.866052Z",
     "iopub.status.idle": "2024-10-29T11:28:26.871755Z",
     "shell.execute_reply": "2024-10-29T11:28:26.871131Z"
    }
   },
   "outputs": [
    {
     "data": {
      "text/plain": [
       "array([0.70710678+0.70710678j, 0.        +0.j        ,\n",
       "       0.        +0.j        , 0.        +0.j        ,\n",
       "       0.        +0.j        ])"
      ]
     },
     "execution_count": 12,
     "metadata": {},
     "output_type": "execute_result"
    }
   ],
   "source": [
    "amplitudes()"
   ]
  },
  {
   "cell_type": "code",
   "execution_count": 13,
   "metadata": {
    "execution": {
     "iopub.execute_input": "2024-10-29T11:28:26.873569Z",
     "iopub.status.busy": "2024-10-29T11:28:26.873164Z",
     "iopub.status.idle": "2024-10-29T11:28:26.876040Z",
     "shell.execute_reply": "2024-10-29T11:28:26.875602Z"
    }
   },
   "outputs": [],
   "source": [
    "amplitudes(1 / np.sqrt(2) * np.array([0, 1 + 1j, 0, 0, 0]))"
   ]
  },
  {
   "cell_type": "code",
   "execution_count": null,
   "metadata": {},
   "outputs": [],
   "source": []
  }
 ],
 "metadata": {
  "kernelspec": {
   "display_name": "Python 3",
   "language": "python",
   "name": "python3"
  },
  "language_info": {
   "codemirror_mode": {
    "name": "ipython",
    "version": 3
   },
   "file_extension": ".py",
   "mimetype": "text/x-python",
   "name": "python",
   "nbconvert_exporter": "python",
   "pygments_lexer": "ipython3",
   "version": "3.11.10"
  },
  "toc": {
   "base_numbering": 1,
   "nav_menu": {},
   "number_sections": true,
   "sideBar": true,
   "skip_h1_title": false,
   "title_cell": "Table of Contents",
   "title_sidebar": "Contents",
   "toc_cell": false,
   "toc_position": {},
   "toc_section_display": true,
   "toc_window_display": false
  },
  "varInspector": {
   "cols": {
    "lenName": 16,
    "lenType": 16,
    "lenVar": 40
   },
   "kernels_config": {
    "python": {
     "delete_cmd_postfix": "",
     "delete_cmd_prefix": "del ",
     "library": "var_list.py",
     "varRefreshCmd": "print(var_dic_list())"
    },
    "r": {
     "delete_cmd_postfix": ") ",
     "delete_cmd_prefix": "rm(",
     "library": "var_list.r",
     "varRefreshCmd": "cat(var_dic_list()) "
    }
   },
   "types_to_exclude": [
    "module",
    "function",
    "builtin_function_or_method",
    "instance",
    "_Feature"
   ],
   "window_display": false
  }
 },
 "nbformat": 4,
 "nbformat_minor": 2
}
