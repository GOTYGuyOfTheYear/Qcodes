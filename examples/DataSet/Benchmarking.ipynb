{
 "cells": [
  {
   "cell_type": "markdown",
   "metadata": {},
   "source": [
    "# Dataset Benchmarking\n",
    "\n",
    "This notebook is a behind-the-scenes benchmarking notebook, mainly for use by developers. The recommended way for users to interact with the dataset is via the `Measurement` object and its associated context manager. See the corresponding notebook for a comprehensive toturial on how to use those."
   ]
  },
  {
   "cell_type": "code",
   "execution_count": 1,
   "metadata": {
    "execution": {
     "iopub.execute_input": "2024-10-29T11:26:35.076347Z",
     "iopub.status.busy": "2024-10-29T11:26:35.075419Z",
     "iopub.status.idle": "2024-10-29T11:26:36.056149Z",
     "shell.execute_reply": "2024-10-29T11:26:36.055577Z"
    }
   },
   "outputs": [
    {
     "name": "stdout",
     "output_type": "stream",
     "text": [
      "Logging hadn't been started.\n",
      "Activating auto-logging. Current session state plus future input saved.\n",
      "Filename       : /home/runner/.qcodes/logs/command_history.log\n",
      "Mode           : append\n",
      "Output logging : True\n",
      "Raw input log  : False\n",
      "Timestamping   : True\n",
      "State          : active\n"
     ]
    },
    {
     "name": "stdout",
     "output_type": "stream",
     "text": [
      "Qcodes Logfile : /home/runner/.qcodes/logs/241029-17974-qcodes.log\n"
     ]
    }
   ],
   "source": [
    "%matplotlib inline\n",
    "from pathlib import Path\n",
    "\n",
    "import numpy as np\n",
    "\n",
    "import qcodes as qc\n",
    "from qcodes.dataset import (\n",
    "    ParamSpec,\n",
    "    initialise_or_create_database_at,\n",
    "    load_or_create_experiment,\n",
    "    new_data_set,\n",
    ")"
   ]
  },
  {
   "cell_type": "code",
   "execution_count": 2,
   "metadata": {
    "execution": {
     "iopub.execute_input": "2024-10-29T11:26:36.058019Z",
     "iopub.status.busy": "2024-10-29T11:26:36.057733Z",
     "iopub.status.idle": "2024-10-29T11:26:36.062402Z",
     "shell.execute_reply": "2024-10-29T11:26:36.061938Z"
    }
   },
   "outputs": [
    {
     "data": {
      "text/plain": [
       "'~/experiments.db'"
      ]
     },
     "execution_count": 2,
     "metadata": {},
     "output_type": "execute_result"
    }
   ],
   "source": [
    "qc.config.core.db_location"
   ]
  },
  {
   "cell_type": "code",
   "execution_count": 3,
   "metadata": {
    "execution": {
     "iopub.execute_input": "2024-10-29T11:26:36.064231Z",
     "iopub.status.busy": "2024-10-29T11:26:36.063896Z",
     "iopub.status.idle": "2024-10-29T11:26:36.100325Z",
     "shell.execute_reply": "2024-10-29T11:26:36.099633Z"
    }
   },
   "outputs": [],
   "source": [
    "initialise_or_create_database_at(Path.cwd() / \"benchmarking.db\")"
   ]
  },
  {
   "cell_type": "markdown",
   "metadata": {},
   "source": [
    "## Setup"
   ]
  },
  {
   "cell_type": "code",
   "execution_count": 4,
   "metadata": {
    "execution": {
     "iopub.execute_input": "2024-10-29T11:26:36.102767Z",
     "iopub.status.busy": "2024-10-29T11:26:36.102539Z",
     "iopub.status.idle": "2024-10-29T11:26:36.110927Z",
     "shell.execute_reply": "2024-10-29T11:26:36.110346Z"
    }
   },
   "outputs": [
    {
     "data": {
      "text/plain": [
       "benchmarking#the sample is a lie#1@/home/runner/work/Qcodes/Qcodes/docs/examples/DataSet/benchmarking.db\n",
       "--------------------------------------------------------------------------------------------------------"
      ]
     },
     "execution_count": 4,
     "metadata": {},
     "output_type": "execute_result"
    }
   ],
   "source": [
    "exp = load_or_create_experiment(\"benchmarking\", sample_name=\"the sample is a lie\")\n",
    "exp"
   ]
  },
  {
   "cell_type": "markdown",
   "metadata": {},
   "source": [
    "Now we can create a dataset. Note two things:\n",
    "\n",
    "    - if we don't specfiy a exp_id, but we have an experiment in the experiment container the dataset will go into that one.\n",
    "    - dataset can be created from the experiment object\n",
    "    "
   ]
  },
  {
   "cell_type": "code",
   "execution_count": 5,
   "metadata": {
    "execution": {
     "iopub.execute_input": "2024-10-29T11:26:36.113050Z",
     "iopub.status.busy": "2024-10-29T11:26:36.112687Z",
     "iopub.status.idle": "2024-10-29T11:26:36.121324Z",
     "shell.execute_reply": "2024-10-29T11:26:36.120711Z"
    }
   },
   "outputs": [
    {
     "data": {
      "text/plain": [
       "benchmarking#the sample is a lie#1@/home/runner/work/Qcodes/Qcodes/docs/examples/DataSet/benchmarking.db\n",
       "--------------------------------------------------------------------------------------------------------\n",
       "1-benchmark_data-1-None-0"
      ]
     },
     "execution_count": 5,
     "metadata": {},
     "output_type": "execute_result"
    }
   ],
   "source": [
    "dataSet = new_data_set(\"benchmark_data\", exp_id=exp.exp_id)\n",
    "exp"
   ]
  },
  {
   "cell_type": "markdown",
   "metadata": {},
   "source": [
    "In this benchmark we will assueme that we are doing a 2D loop and investigate the performance implications of writing to the dataset"
   ]
  },
  {
   "cell_type": "code",
   "execution_count": 6,
   "metadata": {
    "execution": {
     "iopub.execute_input": "2024-10-29T11:26:36.123687Z",
     "iopub.status.busy": "2024-10-29T11:26:36.123181Z",
     "iopub.status.idle": "2024-10-29T11:26:36.126386Z",
     "shell.execute_reply": "2024-10-29T11:26:36.125777Z"
    }
   },
   "outputs": [],
   "source": [
    "x_shape = 100\n",
    "y_shape = 100"
   ]
  },
  {
   "cell_type": "markdown",
   "metadata": {},
   "source": [
    "## Baseline: Generate data"
   ]
  },
  {
   "cell_type": "code",
   "execution_count": 7,
   "metadata": {
    "execution": {
     "iopub.execute_input": "2024-10-29T11:26:36.128572Z",
     "iopub.status.busy": "2024-10-29T11:26:36.128229Z",
     "iopub.status.idle": "2024-10-29T11:26:36.143870Z",
     "shell.execute_reply": "2024-10-29T11:26:36.143258Z"
    }
   },
   "outputs": [
    {
     "name": "stdout",
     "output_type": "stream",
     "text": [
      "CPU times: user 11.5 ms, sys: 0 ns, total: 11.5 ms\n",
      "Wall time: 11.4 ms\n"
     ]
    }
   ],
   "source": [
    "%%time\n",
    "for x in range(x_shape):\n",
    "    for y in range(y_shape):\n",
    "        z = np.random.random_sample(1)"
   ]
  },
  {
   "cell_type": "markdown",
   "metadata": {},
   "source": [
    "and store in memory"
   ]
  },
  {
   "cell_type": "code",
   "execution_count": 8,
   "metadata": {
    "execution": {
     "iopub.execute_input": "2024-10-29T11:26:36.146180Z",
     "iopub.status.busy": "2024-10-29T11:26:36.145512Z",
     "iopub.status.idle": "2024-10-29T11:26:36.149738Z",
     "shell.execute_reply": "2024-10-29T11:26:36.149147Z"
    }
   },
   "outputs": [],
   "source": [
    "x_data = np.zeros((x_shape, y_shape))\n",
    "y_data = np.zeros((x_shape, y_shape))\n",
    "z_data = np.zeros((x_shape, y_shape))"
   ]
  },
  {
   "cell_type": "code",
   "execution_count": 9,
   "metadata": {
    "execution": {
     "iopub.execute_input": "2024-10-29T11:26:36.151882Z",
     "iopub.status.busy": "2024-10-29T11:26:36.151471Z",
     "iopub.status.idle": "2024-10-29T11:26:36.170402Z",
     "shell.execute_reply": "2024-10-29T11:26:36.169817Z"
    }
   },
   "outputs": [
    {
     "name": "stdout",
     "output_type": "stream",
     "text": [
      "CPU times: user 14.2 ms, sys: 0 ns, total: 14.2 ms\n",
      "Wall time: 14.1 ms\n"
     ]
    }
   ],
   "source": [
    "%%time\n",
    "for x in range(x_shape):\n",
    "    for y in range(y_shape):\n",
    "        x_data[x, y] = x\n",
    "        y_data[x, y] = y\n",
    "        z_data[x, y] = np.random.random_sample()"
   ]
  },
  {
   "cell_type": "markdown",
   "metadata": {},
   "source": [
    "## Add to dataset inside double loop"
   ]
  },
  {
   "cell_type": "code",
   "execution_count": 10,
   "metadata": {
    "execution": {
     "iopub.execute_input": "2024-10-29T11:26:36.172510Z",
     "iopub.status.busy": "2024-10-29T11:26:36.172105Z",
     "iopub.status.idle": "2024-10-29T11:26:36.183326Z",
     "shell.execute_reply": "2024-10-29T11:26:36.182772Z"
    }
   },
   "outputs": [],
   "source": [
    "double_dataset = new_data_set(\n",
    "    \"doubledata\",\n",
    "    exp_id=exp.exp_id,\n",
    "    specs=[\n",
    "        ParamSpec(\"x\", \"numeric\"),\n",
    "        ParamSpec(\"y\", \"numeric\"),\n",
    "        ParamSpec(\"z\", \"numeric\"),\n",
    "    ],\n",
    ")\n",
    "double_dataset.mark_started()"
   ]
  },
  {
   "cell_type": "markdown",
   "metadata": {},
   "source": [
    "Note that this is so slow that we are only doing a 10th of the computation"
   ]
  },
  {
   "cell_type": "code",
   "execution_count": 11,
   "metadata": {
    "execution": {
     "iopub.execute_input": "2024-10-29T11:26:36.185536Z",
     "iopub.status.busy": "2024-10-29T11:26:36.185061Z",
     "iopub.status.idle": "2024-10-29T11:26:36.907521Z",
     "shell.execute_reply": "2024-10-29T11:26:36.906786Z"
    }
   },
   "outputs": [
    {
     "name": "stdout",
     "output_type": "stream",
     "text": [
      "CPU times: user 208 ms, sys: 46.2 ms, total: 254 ms\n",
      "Wall time: 717 ms\n"
     ]
    }
   ],
   "source": [
    "%%time\n",
    "for x in range(x_shape // 10):\n",
    "    for y in range(y_shape):\n",
    "        double_dataset.add_results([{\"x\": x, \"y\": y, \"z\": np.random.random_sample()}])"
   ]
  },
  {
   "cell_type": "markdown",
   "metadata": {},
   "source": [
    "## Add the data in outer loop and store as np array"
   ]
  },
  {
   "cell_type": "code",
   "execution_count": 12,
   "metadata": {
    "execution": {
     "iopub.execute_input": "2024-10-29T11:26:36.910055Z",
     "iopub.status.busy": "2024-10-29T11:26:36.909479Z",
     "iopub.status.idle": "2024-10-29T11:26:36.920236Z",
     "shell.execute_reply": "2024-10-29T11:26:36.919603Z"
    }
   },
   "outputs": [],
   "source": [
    "single_dataset = new_data_set(\n",
    "    \"singledata\",\n",
    "    exp_id=exp.exp_id,\n",
    "    specs=[ParamSpec(\"x\", \"array\"), ParamSpec(\"y\", \"array\"), ParamSpec(\"z\", \"array\")],\n",
    ")\n",
    "single_dataset.mark_started()\n",
    "x_data = np.zeros(y_shape)\n",
    "y_data = np.zeros(y_shape)\n",
    "z_data = np.zeros(y_shape)"
   ]
  },
  {
   "cell_type": "code",
   "execution_count": 13,
   "metadata": {
    "execution": {
     "iopub.execute_input": "2024-10-29T11:26:36.922524Z",
     "iopub.status.busy": "2024-10-29T11:26:36.921969Z",
     "iopub.status.idle": "2024-10-29T11:26:36.983354Z",
     "shell.execute_reply": "2024-10-29T11:26:36.982742Z"
    }
   },
   "outputs": [
    {
     "name": "stderr",
     "output_type": "stream",
     "text": [
      "2024-10-29 11:26:36,924 ¦ py.warnings ¦ WARNING ¦ warnings ¦ _showwarnmsg ¦ 110 ¦ <timed exec>:5: DeprecationWarning: Conversion of an array with ndim > 0 to a scalar is deprecated, and will error in future. Ensure you extract a single element from your array before performing this operation. (Deprecated NumPy 1.25.)\n",
      "\n"
     ]
    },
    {
     "name": "stdout",
     "output_type": "stream",
     "text": [
      "CPU times: user 43.9 ms, sys: 440 μs, total: 44.4 ms\n",
      "Wall time: 56.5 ms\n"
     ]
    }
   ],
   "source": [
    "%%time\n",
    "for x in range(x_shape):\n",
    "    for y in range(y_shape):\n",
    "        x_data[y] = x\n",
    "        y_data[y] = y\n",
    "        z_data[y] = np.random.random_sample(1)\n",
    "    single_dataset.add_results([{\"x\": x_data, \"y\": y_data, \"z\": z_data}])"
   ]
  },
  {
   "cell_type": "markdown",
   "metadata": {},
   "source": [
    "## Save once after loop"
   ]
  },
  {
   "cell_type": "code",
   "execution_count": 14,
   "metadata": {
    "execution": {
     "iopub.execute_input": "2024-10-29T11:26:36.985365Z",
     "iopub.status.busy": "2024-10-29T11:26:36.985191Z",
     "iopub.status.idle": "2024-10-29T11:26:36.993663Z",
     "shell.execute_reply": "2024-10-29T11:26:36.993077Z"
    }
   },
   "outputs": [],
   "source": [
    "zero_dataset = new_data_set(\n",
    "    \"zerodata\",\n",
    "    exp_id=exp.exp_id,\n",
    "    specs=[ParamSpec(\"x\", \"array\"), ParamSpec(\"y\", \"array\"), ParamSpec(\"z\", \"array\")],\n",
    ")\n",
    "zero_dataset.mark_started()\n",
    "x_data = np.zeros((x_shape, y_shape))\n",
    "y_data = np.zeros((x_shape, y_shape))\n",
    "z_data = np.zeros((x_shape, y_shape))"
   ]
  },
  {
   "cell_type": "code",
   "execution_count": 15,
   "metadata": {
    "execution": {
     "iopub.execute_input": "2024-10-29T11:26:36.995932Z",
     "iopub.status.busy": "2024-10-29T11:26:36.995484Z",
     "iopub.status.idle": "2024-10-29T11:26:37.020347Z",
     "shell.execute_reply": "2024-10-29T11:26:37.019756Z"
    }
   },
   "outputs": [
    {
     "name": "stderr",
     "output_type": "stream",
     "text": [
      "2024-10-29 11:26:36,997 ¦ py.warnings ¦ WARNING ¦ warnings ¦ _showwarnmsg ¦ 110 ¦ <timed exec>:5: DeprecationWarning: Conversion of an array with ndim > 0 to a scalar is deprecated, and will error in future. Ensure you extract a single element from your array before performing this operation. (Deprecated NumPy 1.25.)\n",
      "\n"
     ]
    },
    {
     "name": "stdout",
     "output_type": "stream",
     "text": [
      "CPU times: user 20.9 ms, sys: 72 μs, total: 20.9 ms\n",
      "Wall time: 20.9 ms\n"
     ]
    }
   ],
   "source": [
    "%%time\n",
    "for x in range(x_shape):\n",
    "    for y in range(y_shape):\n",
    "        x_data[x, y] = x\n",
    "        y_data[x, y] = y\n",
    "        z_data[x, y] = np.random.random_sample(1)\n",
    "zero_dataset.add_results([{\"x\": x_data, \"y\": y_data, \"z\": z_data}])"
   ]
  },
  {
   "cell_type": "markdown",
   "metadata": {},
   "source": [
    "## Array parameter"
   ]
  },
  {
   "cell_type": "code",
   "execution_count": 16,
   "metadata": {
    "execution": {
     "iopub.execute_input": "2024-10-29T11:26:37.022331Z",
     "iopub.status.busy": "2024-10-29T11:26:37.021888Z",
     "iopub.status.idle": "2024-10-29T11:26:37.030613Z",
     "shell.execute_reply": "2024-10-29T11:26:37.030029Z"
    }
   },
   "outputs": [],
   "source": [
    "array1D_dataset = new_data_set(\n",
    "    \"array1Ddata\",\n",
    "    exp_id=exp.exp_id,\n",
    "    specs=[ParamSpec(\"x\", \"array\"), ParamSpec(\"y\", \"array\"), ParamSpec(\"z\", \"array\")],\n",
    ")\n",
    "array1D_dataset.mark_started()\n",
    "y_setpoints = np.arange(y_shape)"
   ]
  },
  {
   "cell_type": "code",
   "execution_count": 17,
   "metadata": {
    "execution": {
     "iopub.execute_input": "2024-10-29T11:26:37.032789Z",
     "iopub.status.busy": "2024-10-29T11:26:37.032447Z",
     "iopub.status.idle": "2024-10-29T11:26:40.294996Z",
     "shell.execute_reply": "2024-10-29T11:26:40.294377Z"
    }
   },
   "outputs": [
    {
     "name": "stdout",
     "output_type": "stream",
     "text": [
      "40.2 ms ± 1.17 ms per loop (mean ± std. dev. of 7 runs, 10 loops each)\n"
     ]
    }
   ],
   "source": [
    "%%timeit\n",
    "for x in range(x_shape):\n",
    "    x_data[x, :] = x\n",
    "    array1D_dataset.add_results(\n",
    "        [{\"x\": x_data[x, :], \"y\": y_setpoints, \"z\": np.random.random_sample(y_shape)}]\n",
    "    )"
   ]
  },
  {
   "cell_type": "code",
   "execution_count": 18,
   "metadata": {
    "execution": {
     "iopub.execute_input": "2024-10-29T11:26:40.296889Z",
     "iopub.status.busy": "2024-10-29T11:26:40.296673Z",
     "iopub.status.idle": "2024-10-29T11:26:40.300295Z",
     "shell.execute_reply": "2024-10-29T11:26:40.299749Z"
    }
   },
   "outputs": [],
   "source": [
    "x_data = np.zeros((x_shape, y_shape))\n",
    "y_data = np.zeros((x_shape, y_shape))\n",
    "z_data = np.zeros((x_shape, y_shape))\n",
    "y_setpoints = np.arange(y_shape)"
   ]
  },
  {
   "cell_type": "code",
   "execution_count": 19,
   "metadata": {
    "execution": {
     "iopub.execute_input": "2024-10-29T11:26:40.302281Z",
     "iopub.status.busy": "2024-10-29T11:26:40.301822Z",
     "iopub.status.idle": "2024-10-29T11:26:40.309247Z",
     "shell.execute_reply": "2024-10-29T11:26:40.308803Z"
    }
   },
   "outputs": [],
   "source": [
    "array0D_dataset = new_data_set(\n",
    "    \"array0Ddata\",\n",
    "    exp_id=exp.exp_id,\n",
    "    specs=[ParamSpec(\"x\", \"array\"), ParamSpec(\"y\", \"array\"), ParamSpec(\"z\", \"array\")],\n",
    ")\n",
    "array0D_dataset.mark_started()"
   ]
  },
  {
   "cell_type": "code",
   "execution_count": 20,
   "metadata": {
    "execution": {
     "iopub.execute_input": "2024-10-29T11:26:40.311039Z",
     "iopub.status.busy": "2024-10-29T11:26:40.310664Z",
     "iopub.status.idle": "2024-10-29T11:26:42.094122Z",
     "shell.execute_reply": "2024-10-29T11:26:42.093539Z"
    }
   },
   "outputs": [
    {
     "name": "stdout",
     "output_type": "stream",
     "text": [
      "2.18 ms ± 200 μs per loop (mean ± std. dev. of 7 runs, 100 loops each)\n"
     ]
    }
   ],
   "source": [
    "%%timeit\n",
    "for x in range(x_shape):\n",
    "    x_data[x, :] = x\n",
    "    y_data[x, :] = y_setpoints\n",
    "    z_data[x, :] = np.random.random_sample(y_shape)\n",
    "array0D_dataset.add_results([{\"x\": x_data, \"y\": y_data, \"z\": z_data}])"
   ]
  },
  {
   "cell_type": "markdown",
   "metadata": {},
   "source": [
    "## Insert many"
   ]
  },
  {
   "cell_type": "code",
   "execution_count": 21,
   "metadata": {
    "execution": {
     "iopub.execute_input": "2024-10-29T11:26:42.096257Z",
     "iopub.status.busy": "2024-10-29T11:26:42.095863Z",
     "iopub.status.idle": "2024-10-29T11:26:42.109417Z",
     "shell.execute_reply": "2024-10-29T11:26:42.108760Z"
    }
   },
   "outputs": [],
   "source": [
    "data = []\n",
    "for i in range(100):\n",
    "    for j in range(100):\n",
    "        data.append({\"x\": i, \"y\": j, \"z\": np.random.random_sample()})"
   ]
  },
  {
   "cell_type": "code",
   "execution_count": 22,
   "metadata": {
    "execution": {
     "iopub.execute_input": "2024-10-29T11:26:42.111725Z",
     "iopub.status.busy": "2024-10-29T11:26:42.111260Z",
     "iopub.status.idle": "2024-10-29T11:26:42.121060Z",
     "shell.execute_reply": "2024-10-29T11:26:42.120525Z"
    }
   },
   "outputs": [],
   "source": [
    "many_Data = new_data_set(\n",
    "    \"many_data\",\n",
    "    exp_id=exp.exp_id,\n",
    "    specs=[\n",
    "        ParamSpec(\"x\", \"numeric\"),\n",
    "        ParamSpec(\"y\", \"numeric\"),\n",
    "        ParamSpec(\"z\", \"numeric\"),\n",
    "    ],\n",
    ")\n",
    "many_Data.mark_started()"
   ]
  },
  {
   "cell_type": "code",
   "execution_count": 23,
   "metadata": {
    "execution": {
     "iopub.execute_input": "2024-10-29T11:26:42.123293Z",
     "iopub.status.busy": "2024-10-29T11:26:42.122757Z",
     "iopub.status.idle": "2024-10-29T11:26:57.813151Z",
     "shell.execute_reply": "2024-10-29T11:26:57.812612Z"
    }
   },
   "outputs": [
    {
     "name": "stdout",
     "output_type": "stream",
     "text": [
      "19 ms ± 490 μs per loop (mean ± std. dev. of 7 runs, 100 loops each)\n"
     ]
    }
   ],
   "source": [
    "%%timeit\n",
    "many_Data.add_results(data)"
   ]
  }
 ],
 "metadata": {
  "kernelspec": {
   "display_name": "Python 3",
   "language": "python",
   "name": "python3"
  },
  "language_info": {
   "codemirror_mode": {
    "name": "ipython",
    "version": 3
   },
   "file_extension": ".py",
   "mimetype": "text/x-python",
   "name": "python",
   "nbconvert_exporter": "python",
   "pygments_lexer": "ipython3",
   "version": "3.11.10"
  },
  "nbsphinx": {
   "timeout": 600
  }
 },
 "nbformat": 4,
 "nbformat_minor": 2
}
