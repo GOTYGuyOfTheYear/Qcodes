{
 "cells": [
  {
   "cell_type": "markdown",
   "metadata": {},
   "source": [
    "# Subscriber with JSON export\n",
    "\n",
    "__NOTE__: this is an __outdated__ notebook, some of the functions that are used here are considered __private__ to QCoDeS and are not intended for use by users (for example, `DataSet.subscribe`). This notebook will be re-written in the future."
   ]
  },
  {
   "cell_type": "code",
   "execution_count": 1,
   "metadata": {
    "execution": {
     "iopub.execute_input": "2024-10-29T11:28:23.940961Z",
     "iopub.status.busy": "2024-10-29T11:28:23.940782Z",
     "iopub.status.idle": "2024-10-29T11:28:23.993548Z",
     "shell.execute_reply": "2024-10-29T11:28:23.993000Z"
    }
   },
   "outputs": [],
   "source": [
    "import copy\n",
    "import logging\n",
    "from pathlib import Path\n",
    "\n",
    "import numpy as np"
   ]
  },
  {
   "cell_type": "code",
   "execution_count": 2,
   "metadata": {
    "execution": {
     "iopub.execute_input": "2024-10-29T11:28:23.996723Z",
     "iopub.status.busy": "2024-10-29T11:28:23.995927Z",
     "iopub.status.idle": "2024-10-29T11:28:24.584900Z",
     "shell.execute_reply": "2024-10-29T11:28:24.584289Z"
    }
   },
   "outputs": [
    {
     "name": "stdout",
     "output_type": "stream",
     "text": [
      "Logging hadn't been started.\n",
      "Activating auto-logging. Current session state plus future input saved.\n",
      "Filename       : /home/runner/.qcodes/logs/command_history.log\n",
      "Mode           : append\n",
      "Output logging : True\n",
      "Raw input log  : False\n",
      "Timestamping   : True\n",
      "State          : active\n"
     ]
    },
    {
     "name": "stdout",
     "output_type": "stream",
     "text": [
      "Qcodes Logfile : /home/runner/.qcodes/logs/241029-19711-qcodes.log\n"
     ]
    }
   ],
   "source": [
    "from qcodes.dataset import (\n",
    "    ParamSpec,\n",
    "    initialise_or_create_database_at,\n",
    "    load_or_create_experiment,\n",
    "    new_data_set,\n",
    ")\n",
    "from qcodes.dataset.json_exporter import (\n",
    "    export_data_as_json_heatmap,\n",
    "    export_data_as_json_linear,\n",
    "    json_template_heatmap,\n",
    "    json_template_linear,\n",
    ")"
   ]
  },
  {
   "cell_type": "code",
   "execution_count": 3,
   "metadata": {
    "execution": {
     "iopub.execute_input": "2024-10-29T11:28:24.586914Z",
     "iopub.status.busy": "2024-10-29T11:28:24.586424Z",
     "iopub.status.idle": "2024-10-29T11:28:24.589688Z",
     "shell.execute_reply": "2024-10-29T11:28:24.589093Z"
    }
   },
   "outputs": [],
   "source": [
    "logging.basicConfig(level=\"INFO\")"
   ]
  },
  {
   "cell_type": "code",
   "execution_count": 4,
   "metadata": {
    "execution": {
     "iopub.execute_input": "2024-10-29T11:28:24.591610Z",
     "iopub.status.busy": "2024-10-29T11:28:24.591167Z",
     "iopub.status.idle": "2024-10-29T11:28:24.622126Z",
     "shell.execute_reply": "2024-10-29T11:28:24.621681Z"
    }
   },
   "outputs": [],
   "source": [
    "initialise_or_create_database_at(Path.cwd() / \"json_export_example.db\")\n",
    "exp = load_or_create_experiment(\"json-export-subscriber-test\", \"no-sample\")"
   ]
  },
  {
   "cell_type": "code",
   "execution_count": 5,
   "metadata": {
    "execution": {
     "iopub.execute_input": "2024-10-29T11:28:24.623955Z",
     "iopub.status.busy": "2024-10-29T11:28:24.623619Z",
     "iopub.status.idle": "2024-10-29T11:28:24.631797Z",
     "shell.execute_reply": "2024-10-29T11:28:24.631335Z"
    }
   },
   "outputs": [],
   "source": [
    "dataSet = new_data_set(\n",
    "    \"test\",\n",
    "    exp_id=exp.exp_id,\n",
    "    specs=[ParamSpec(\"x\", \"numeric\"), ParamSpec(\"y\", \"numeric\")],\n",
    ")\n",
    "dataSet.mark_started()"
   ]
  },
  {
   "cell_type": "code",
   "execution_count": 6,
   "metadata": {
    "execution": {
     "iopub.execute_input": "2024-10-29T11:28:24.633425Z",
     "iopub.status.busy": "2024-10-29T11:28:24.633154Z",
     "iopub.status.idle": "2024-10-29T11:28:24.636792Z",
     "shell.execute_reply": "2024-10-29T11:28:24.636319Z"
    }
   },
   "outputs": [],
   "source": [
    "mystate = {}\n",
    "mystate[\"json\"] = copy.deepcopy(json_template_linear)\n",
    "mystate[\"json\"][\"x\"][\"name\"] = \"xname\"\n",
    "mystate[\"json\"][\"x\"][\"unit\"] = \"xunit\"\n",
    "mystate[\"json\"][\"x\"][\"full_name\"] = \"xfullname\"\n",
    "mystate[\"json\"][\"y\"][\"name\"] = \"yname\"\n",
    "mystate[\"json\"][\"y\"][\"unit\"] = \"yunit\"\n",
    "mystate[\"json\"][\"y\"][\"full_name\"] = \"yfullname\""
   ]
  },
  {
   "cell_type": "code",
   "execution_count": 7,
   "metadata": {
    "execution": {
     "iopub.execute_input": "2024-10-29T11:28:24.638387Z",
     "iopub.status.busy": "2024-10-29T11:28:24.638092Z",
     "iopub.status.idle": "2024-10-29T11:28:24.642411Z",
     "shell.execute_reply": "2024-10-29T11:28:24.641877Z"
    },
    "scrolled": true
   },
   "outputs": [],
   "source": [
    "sub_id = dataSet.subscribe(\n",
    "    export_data_as_json_linear,\n",
    "    min_wait=0,\n",
    "    min_count=20,\n",
    "    state=mystate,\n",
    "    callback_kwargs={\"location\": \"foo\"},\n",
    ")"
   ]
  },
  {
   "cell_type": "code",
   "execution_count": 8,
   "metadata": {
    "execution": {
     "iopub.execute_input": "2024-10-29T11:28:24.644338Z",
     "iopub.status.busy": "2024-10-29T11:28:24.643871Z",
     "iopub.status.idle": "2024-10-29T11:28:24.646851Z",
     "shell.execute_reply": "2024-10-29T11:28:24.646264Z"
    }
   },
   "outputs": [],
   "source": [
    "s = dataSet.subscribers[sub_id]"
   ]
  },
  {
   "cell_type": "code",
   "execution_count": 9,
   "metadata": {
    "execution": {
     "iopub.execute_input": "2024-10-29T11:28:24.648720Z",
     "iopub.status.busy": "2024-10-29T11:28:24.648296Z",
     "iopub.status.idle": "2024-10-29T11:28:24.655138Z",
     "shell.execute_reply": "2024-10-29T11:28:24.654525Z"
    },
    "scrolled": true
   },
   "outputs": [
    {
     "data": {
      "text/plain": [
       "{'json': {'type': 'linear',\n",
       "  'x': {'data': [],\n",
       "   'name': 'xname',\n",
       "   'full_name': 'xfullname',\n",
       "   'is_setpoint': True,\n",
       "   'unit': 'xunit'},\n",
       "  'y': {'data': [],\n",
       "   'name': 'yname',\n",
       "   'full_name': 'yfullname',\n",
       "   'is_setpoint': False,\n",
       "   'unit': 'yunit'}}}"
      ]
     },
     "execution_count": 9,
     "metadata": {},
     "output_type": "execute_result"
    }
   ],
   "source": [
    "mystate"
   ]
  },
  {
   "cell_type": "code",
   "execution_count": 10,
   "metadata": {
    "execution": {
     "iopub.execute_input": "2024-10-29T11:28:24.657219Z",
     "iopub.status.busy": "2024-10-29T11:28:24.656726Z",
     "iopub.status.idle": "2024-10-29T11:28:24.719912Z",
     "shell.execute_reply": "2024-10-29T11:28:24.719424Z"
    },
    "scrolled": false
   },
   "outputs": [],
   "source": [
    "for x in range(100):\n",
    "    y = x\n",
    "    dataSet.add_results([{\"x\": x, \"y\": y}])\n",
    "dataSet.mark_completed()"
   ]
  },
  {
   "cell_type": "code",
   "execution_count": 11,
   "metadata": {
    "execution": {
     "iopub.execute_input": "2024-10-29T11:28:24.721719Z",
     "iopub.status.busy": "2024-10-29T11:28:24.721396Z",
     "iopub.status.idle": "2024-10-29T11:28:24.726450Z",
     "shell.execute_reply": "2024-10-29T11:28:24.725879Z"
    },
    "scrolled": true
   },
   "outputs": [
    {
     "data": {
      "text/plain": [
       "{'json': {'type': 'linear',\n",
       "  'x': {'data': [0,\n",
       "    1,\n",
       "    2,\n",
       "    3,\n",
       "    4,\n",
       "    5,\n",
       "    6,\n",
       "    7,\n",
       "    8,\n",
       "    9,\n",
       "    10,\n",
       "    11,\n",
       "    12,\n",
       "    13,\n",
       "    14,\n",
       "    15,\n",
       "    16,\n",
       "    17,\n",
       "    18,\n",
       "    19,\n",
       "    20,\n",
       "    21,\n",
       "    22,\n",
       "    23,\n",
       "    24,\n",
       "    25,\n",
       "    26,\n",
       "    27,\n",
       "    28,\n",
       "    29,\n",
       "    30,\n",
       "    31,\n",
       "    32,\n",
       "    33,\n",
       "    34,\n",
       "    35,\n",
       "    36,\n",
       "    37,\n",
       "    38,\n",
       "    39,\n",
       "    40,\n",
       "    41,\n",
       "    42,\n",
       "    43,\n",
       "    44,\n",
       "    45,\n",
       "    46,\n",
       "    47,\n",
       "    48,\n",
       "    49,\n",
       "    50,\n",
       "    51,\n",
       "    52,\n",
       "    53,\n",
       "    54,\n",
       "    55,\n",
       "    56,\n",
       "    57,\n",
       "    58,\n",
       "    59,\n",
       "    60,\n",
       "    61,\n",
       "    62,\n",
       "    63,\n",
       "    64,\n",
       "    65,\n",
       "    66,\n",
       "    67,\n",
       "    68,\n",
       "    69,\n",
       "    70,\n",
       "    71,\n",
       "    72,\n",
       "    73,\n",
       "    74,\n",
       "    75,\n",
       "    76,\n",
       "    77,\n",
       "    78,\n",
       "    79,\n",
       "    80,\n",
       "    81,\n",
       "    82,\n",
       "    83,\n",
       "    84,\n",
       "    85,\n",
       "    86,\n",
       "    87,\n",
       "    88,\n",
       "    89,\n",
       "    90,\n",
       "    91,\n",
       "    92,\n",
       "    93,\n",
       "    94,\n",
       "    95,\n",
       "    96,\n",
       "    97,\n",
       "    98,\n",
       "    99],\n",
       "   'name': 'xname',\n",
       "   'full_name': 'xfullname',\n",
       "   'is_setpoint': True,\n",
       "   'unit': 'xunit'},\n",
       "  'y': {'data': [0,\n",
       "    1,\n",
       "    2,\n",
       "    3,\n",
       "    4,\n",
       "    5,\n",
       "    6,\n",
       "    7,\n",
       "    8,\n",
       "    9,\n",
       "    10,\n",
       "    11,\n",
       "    12,\n",
       "    13,\n",
       "    14,\n",
       "    15,\n",
       "    16,\n",
       "    17,\n",
       "    18,\n",
       "    19,\n",
       "    20,\n",
       "    21,\n",
       "    22,\n",
       "    23,\n",
       "    24,\n",
       "    25,\n",
       "    26,\n",
       "    27,\n",
       "    28,\n",
       "    29,\n",
       "    30,\n",
       "    31,\n",
       "    32,\n",
       "    33,\n",
       "    34,\n",
       "    35,\n",
       "    36,\n",
       "    37,\n",
       "    38,\n",
       "    39,\n",
       "    40,\n",
       "    41,\n",
       "    42,\n",
       "    43,\n",
       "    44,\n",
       "    45,\n",
       "    46,\n",
       "    47,\n",
       "    48,\n",
       "    49,\n",
       "    50,\n",
       "    51,\n",
       "    52,\n",
       "    53,\n",
       "    54,\n",
       "    55,\n",
       "    56,\n",
       "    57,\n",
       "    58,\n",
       "    59,\n",
       "    60,\n",
       "    61,\n",
       "    62,\n",
       "    63,\n",
       "    64,\n",
       "    65,\n",
       "    66,\n",
       "    67,\n",
       "    68,\n",
       "    69,\n",
       "    70,\n",
       "    71,\n",
       "    72,\n",
       "    73,\n",
       "    74,\n",
       "    75,\n",
       "    76,\n",
       "    77,\n",
       "    78,\n",
       "    79,\n",
       "    80,\n",
       "    81,\n",
       "    82,\n",
       "    83,\n",
       "    84,\n",
       "    85,\n",
       "    86,\n",
       "    87,\n",
       "    88,\n",
       "    89,\n",
       "    90,\n",
       "    91,\n",
       "    92,\n",
       "    93,\n",
       "    94,\n",
       "    95,\n",
       "    96,\n",
       "    97,\n",
       "    98,\n",
       "    99],\n",
       "   'name': 'yname',\n",
       "   'full_name': 'yfullname',\n",
       "   'is_setpoint': False,\n",
       "   'unit': 'yunit'}}}"
      ]
     },
     "execution_count": 11,
     "metadata": {},
     "output_type": "execute_result"
    }
   ],
   "source": [
    "mystate"
   ]
  },
  {
   "cell_type": "code",
   "execution_count": 12,
   "metadata": {
    "execution": {
     "iopub.execute_input": "2024-10-29T11:28:24.728334Z",
     "iopub.status.busy": "2024-10-29T11:28:24.728038Z",
     "iopub.status.idle": "2024-10-29T11:28:24.732428Z",
     "shell.execute_reply": "2024-10-29T11:28:24.731843Z"
    }
   },
   "outputs": [],
   "source": [
    "mystate = {}\n",
    "xlen = 5\n",
    "ylen = 10\n",
    "mystate[\"json\"] = json_template_heatmap.copy()\n",
    "mystate[\"data\"] = {}\n",
    "mystate[\"data\"][\"xlen\"] = xlen\n",
    "mystate[\"data\"][\"ylen\"] = ylen\n",
    "mystate[\"data\"][\"x\"] = np.zeros((xlen * ylen), dtype=object)\n",
    "mystate[\"data\"][\"x\"][:] = None\n",
    "mystate[\"data\"][\"y\"] = np.zeros((xlen * ylen), dtype=object)\n",
    "mystate[\"data\"][\"y\"][:] = None\n",
    "mystate[\"data\"][\"z\"] = np.zeros((xlen * ylen), dtype=object)\n",
    "mystate[\"data\"][\"z\"][:] = None\n",
    "mystate[\"data\"][\"location\"] = 0"
   ]
  },
  {
   "cell_type": "code",
   "execution_count": 13,
   "metadata": {
    "execution": {
     "iopub.execute_input": "2024-10-29T11:28:24.734176Z",
     "iopub.status.busy": "2024-10-29T11:28:24.733846Z",
     "iopub.status.idle": "2024-10-29T11:28:24.743537Z",
     "shell.execute_reply": "2024-10-29T11:28:24.743061Z"
    }
   },
   "outputs": [],
   "source": [
    "dataSet_hm = new_data_set(\n",
    "    \"test\",\n",
    "    exp_id=exp.exp_id,\n",
    "    specs=[\n",
    "        ParamSpec(\"x\", \"numeric\"),\n",
    "        ParamSpec(\"y\", \"numeric\"),\n",
    "        ParamSpec(\"z\", \"numeric\"),\n",
    "    ],\n",
    ")\n",
    "dataSet_hm.mark_started()"
   ]
  },
  {
   "cell_type": "code",
   "execution_count": 14,
   "metadata": {
    "execution": {
     "iopub.execute_input": "2024-10-29T11:28:24.745187Z",
     "iopub.status.busy": "2024-10-29T11:28:24.744848Z",
     "iopub.status.idle": "2024-10-29T11:28:24.748920Z",
     "shell.execute_reply": "2024-10-29T11:28:24.748364Z"
    }
   },
   "outputs": [],
   "source": [
    "sub_id = dataSet_hm.subscribe(\n",
    "    export_data_as_json_heatmap,\n",
    "    min_wait=0,\n",
    "    min_count=20,\n",
    "    state=mystate,\n",
    "    callback_kwargs={\"location\": \"./foo\"},\n",
    ")"
   ]
  },
  {
   "cell_type": "code",
   "execution_count": 15,
   "metadata": {
    "execution": {
     "iopub.execute_input": "2024-10-29T11:28:24.750801Z",
     "iopub.status.busy": "2024-10-29T11:28:24.750475Z",
     "iopub.status.idle": "2024-10-29T11:28:24.785647Z",
     "shell.execute_reply": "2024-10-29T11:28:24.785155Z"
    },
    "scrolled": false
   },
   "outputs": [],
   "source": [
    "for x in range(xlen):\n",
    "    for y in range(ylen):\n",
    "        z = x + y\n",
    "        dataSet_hm.add_results([{\"x\": x, \"y\": y, \"z\": z}])\n",
    "dataSet_hm.mark_completed()"
   ]
  },
  {
   "cell_type": "code",
   "execution_count": 16,
   "metadata": {
    "execution": {
     "iopub.execute_input": "2024-10-29T11:28:24.787341Z",
     "iopub.status.busy": "2024-10-29T11:28:24.787040Z",
     "iopub.status.idle": "2024-10-29T11:28:24.791616Z",
     "shell.execute_reply": "2024-10-29T11:28:24.791041Z"
    },
    "scrolled": true
   },
   "outputs": [
    {
     "data": {
      "text/plain": [
       "{'type': 'heatmap',\n",
       " 'x': {'data': [0, 1, 2, 3, 4],\n",
       "  'name': '',\n",
       "  'full_name': '',\n",
       "  'is_setpoint': True,\n",
       "  'unit': ''},\n",
       " 'y': {'data': [0, 1, 2, 3, 4, 5, 6, 7, 8, 9],\n",
       "  'name': '',\n",
       "  'full_name': '',\n",
       "  'is_setpoint': True,\n",
       "  'unit': ''},\n",
       " 'z': {'data': [[0, 1, 2, 3, 4, 5, 6, 7, 8, 9],\n",
       "   [1, 2, 3, 4, 5, 6, 7, 8, 9, 10],\n",
       "   [2, 3, 4, 5, 6, 7, 8, 9, 10, 11],\n",
       "   [3, 4, 5, 6, 7, 8, 9, 10, 11, 12],\n",
       "   [4, 5, 6, 7, 8, 9, 10, 11, 12, 13]],\n",
       "  'name': '',\n",
       "  'full_name': '',\n",
       "  'is_setpoint': False,\n",
       "  'unit': ''}}"
      ]
     },
     "execution_count": 16,
     "metadata": {},
     "output_type": "execute_result"
    }
   ],
   "source": [
    "mystate[\"json\"]"
   ]
  },
  {
   "cell_type": "code",
   "execution_count": null,
   "metadata": {},
   "outputs": [],
   "source": []
  }
 ],
 "metadata": {
  "kernelspec": {
   "display_name": "Python 3",
   "language": "python",
   "name": "python3"
  },
  "language_info": {
   "codemirror_mode": {
    "name": "ipython",
    "version": 3
   },
   "file_extension": ".py",
   "mimetype": "text/x-python",
   "name": "python",
   "nbconvert_exporter": "python",
   "pygments_lexer": "ipython3",
   "version": "3.11.10"
  }
 },
 "nbformat": 4,
 "nbformat_minor": 2
}
