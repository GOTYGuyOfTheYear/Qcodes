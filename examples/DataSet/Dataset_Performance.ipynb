{
 "cells": [
  {
   "cell_type": "markdown",
   "metadata": {},
   "source": [
    "# DataSet Performance\n",
    "\n",
    "This notebook shows the trade-off between inserting data into a database row-by-row and as binary blobs. Inserting the data row-by-row means that we have direct access to all the data and may perform queries directly on the values of the data. On the other hand, as we shall see, this is much slower than inserting the data directly as binary blobs."
   ]
  },
  {
   "cell_type": "markdown",
   "metadata": {},
   "source": [
    "First, we choose a new location for the database to ensure that we don't add a bunch of benchmarking data to the default one."
   ]
  },
  {
   "cell_type": "code",
   "execution_count": 1,
   "metadata": {
    "execution": {
     "iopub.execute_input": "2024-10-29T11:24:05.612218Z",
     "iopub.status.busy": "2024-10-29T11:24:05.611739Z",
     "iopub.status.idle": "2024-10-29T11:24:06.319479Z",
     "shell.execute_reply": "2024-10-29T11:24:06.318827Z"
    }
   },
   "outputs": [
    {
     "name": "stdout",
     "output_type": "stream",
     "text": [
      "Logging hadn't been started.\n",
      "Activating auto-logging. Current session state plus future input saved.\n",
      "Filename       : /home/runner/.qcodes/logs/command_history.log\n",
      "Mode           : append\n",
      "Output logging : True\n",
      "Raw input log  : False\n",
      "Timestamping   : True\n",
      "State          : active\n"
     ]
    },
    {
     "name": "stdout",
     "output_type": "stream",
     "text": [
      "Qcodes Logfile : /home/runner/.qcodes/logs/241029-11854-qcodes.log\n"
     ]
    }
   ],
   "source": [
    "import os\n",
    "\n",
    "import qcodes as qc\n",
    "\n",
    "cwd = os.getcwd()\n",
    "qc.config[\"core\"][\"db_location\"] = os.path.join(cwd, \"testing.db\")"
   ]
  },
  {
   "cell_type": "code",
   "execution_count": 2,
   "metadata": {
    "execution": {
     "iopub.execute_input": "2024-10-29T11:24:06.321512Z",
     "iopub.status.busy": "2024-10-29T11:24:06.321204Z",
     "iopub.status.idle": "2024-10-29T11:24:06.629916Z",
     "shell.execute_reply": "2024-10-29T11:24:06.629418Z"
    }
   },
   "outputs": [],
   "source": [
    "%matplotlib inline\n",
    "import time\n",
    "from pathlib import Path\n",
    "\n",
    "import matplotlib.pyplot as plt\n",
    "import numpy as np\n",
    "\n",
    "import qcodes as qc\n",
    "from qcodes.dataset import (\n",
    "    Measurement,\n",
    "    initialise_or_create_database_at,\n",
    "    load_or_create_experiment,\n",
    ")\n",
    "from qcodes.parameters import ManualParameter"
   ]
  },
  {
   "cell_type": "code",
   "execution_count": 3,
   "metadata": {
    "execution": {
     "iopub.execute_input": "2024-10-29T11:24:06.632125Z",
     "iopub.status.busy": "2024-10-29T11:24:06.631757Z",
     "iopub.status.idle": "2024-10-29T11:24:06.666245Z",
     "shell.execute_reply": "2024-10-29T11:24:06.665577Z"
    }
   },
   "outputs": [],
   "source": [
    "initialise_or_create_database_at(Path.cwd() / \"dataset_performance.db\")\n",
    "exp = load_or_create_experiment(experiment_name=\"tutorial_exp\", sample_name=\"no sample\")"
   ]
  },
  {
   "cell_type": "markdown",
   "metadata": {},
   "source": [
    "Here, we define a simple function to benchmark the time it takes to insert n points with either numeric or array data type.\n",
    "We will compare both the time used to call ``add_result`` and the time used for the full measurement."
   ]
  },
  {
   "cell_type": "code",
   "execution_count": 4,
   "metadata": {
    "execution": {
     "iopub.execute_input": "2024-10-29T11:24:06.668848Z",
     "iopub.status.busy": "2024-10-29T11:24:06.668487Z",
     "iopub.status.idle": "2024-10-29T11:24:06.674336Z",
     "shell.execute_reply": "2024-10-29T11:24:06.673824Z"
    }
   },
   "outputs": [],
   "source": [
    "def insert_data(paramtype, npoints, nreps=1):\n",
    "    meas = Measurement(exp=exp)\n",
    "\n",
    "    x1 = ManualParameter(\"x1\")\n",
    "    x2 = ManualParameter(\"x2\")\n",
    "    x3 = ManualParameter(\"x3\")\n",
    "    y1 = ManualParameter(\"y1\")\n",
    "    y2 = ManualParameter(\"y2\")\n",
    "\n",
    "    meas.register_parameter(x1, paramtype=paramtype)\n",
    "    meas.register_parameter(x2, paramtype=paramtype)\n",
    "    meas.register_parameter(x3, paramtype=paramtype)\n",
    "    meas.register_parameter(y1, setpoints=[x1, x2, x3], paramtype=paramtype)\n",
    "    meas.register_parameter(y2, setpoints=[x1, x2, x3], paramtype=paramtype)\n",
    "    start = time.perf_counter()\n",
    "    with meas.run() as datasaver:\n",
    "        start_adding = time.perf_counter()\n",
    "        for i in range(nreps):\n",
    "            datasaver.add_result(\n",
    "                (x1, np.random.rand(npoints)),\n",
    "                (x2, np.random.rand(npoints)),\n",
    "                (x3, np.random.rand(npoints)),\n",
    "                (y1, np.random.rand(npoints)),\n",
    "                (y2, np.random.rand(npoints)),\n",
    "            )\n",
    "        stop_adding = time.perf_counter()\n",
    "        run_id = datasaver.run_id\n",
    "    stop = time.perf_counter()\n",
    "    tot_time = stop - start\n",
    "    add_time = stop_adding - start_adding\n",
    "    return tot_time, add_time, run_id"
   ]
  },
  {
   "cell_type": "markdown",
   "metadata": {},
   "source": [
    "## Comparison between numeric/array data and binary blob"
   ]
  },
  {
   "cell_type": "markdown",
   "metadata": {},
   "source": [
    "### Case1: Short experiment time"
   ]
  },
  {
   "cell_type": "code",
   "execution_count": 5,
   "metadata": {
    "execution": {
     "iopub.execute_input": "2024-10-29T11:24:06.676085Z",
     "iopub.status.busy": "2024-10-29T11:24:06.675739Z",
     "iopub.status.idle": "2024-10-29T11:24:07.103812Z",
     "shell.execute_reply": "2024-10-29T11:24:07.103155Z"
    }
   },
   "outputs": [
    {
     "name": "stdout",
     "output_type": "stream",
     "text": [
      "Starting experimental run with id: 1. \n",
      "Starting experimental run with id: 2. \n",
      "Starting experimental run with id: 3. \n",
      "Starting experimental run with id: 4. \n",
      "Starting experimental run with id: 5. \n",
      "Starting experimental run with id: 6. \n",
      "Starting experimental run with id: 7. \n",
      "Starting experimental run with id: 8. \n",
      "Starting experimental run with id: 9. \n"
     ]
    },
    {
     "name": "stdout",
     "output_type": "stream",
     "text": [
      "Starting experimental run with id: 10. \n",
      "Starting experimental run with id: 11. \n",
      "Starting experimental run with id: 12. \n",
      "Starting experimental run with id: 13. \n",
      "Starting experimental run with id: 14. \n"
     ]
    }
   ],
   "source": [
    "sizes = [1, 500, 1000, 2000, 3000, 4000, 5000]\n",
    "t_numeric = []\n",
    "t_numeric_add = []\n",
    "t_array = []\n",
    "t_array_add = []\n",
    "for size in sizes:\n",
    "    tn, tna, run_id_n = insert_data(\"numeric\", size)\n",
    "    t_numeric.append(tn)\n",
    "    t_numeric_add.append(tna)\n",
    "\n",
    "    ta, taa, run_id_a = insert_data(\"array\", size)\n",
    "    t_array.append(ta)\n",
    "    t_array_add.append(taa)"
   ]
  },
  {
   "cell_type": "code",
   "execution_count": 6,
   "metadata": {
    "execution": {
     "iopub.execute_input": "2024-10-29T11:24:07.106196Z",
     "iopub.status.busy": "2024-10-29T11:24:07.105672Z",
     "iopub.status.idle": "2024-10-29T11:24:07.306818Z",
     "shell.execute_reply": "2024-10-29T11:24:07.306049Z"
    }
   },
   "outputs": [
    {
     "data": {
      "image/png": "[encoded data removed]",
      "text/plain": [
       "<Figure size 640x480 with 1 Axes>"
      ]
     },
     "metadata": {},
     "output_type": "display_data"
    }
   ],
   "source": [
    "fig, ax = plt.subplots(1, 1)\n",
    "ax.plot(sizes, t_numeric, \"o-\", label=\"Inserting row-by-row\")\n",
    "ax.plot(sizes, t_numeric_add, \"o-\", label=\"Inserting row-by-row: add_result only\")\n",
    "ax.plot(sizes, t_array, \"d-\", label=\"Inserting as binary blob\")\n",
    "ax.plot(sizes, t_array_add, \"d-\", label=\"Inserting as binary blob: add_result only\")\n",
    "ax.legend()\n",
    "ax.set_xlabel(\"Array length\")\n",
    "ax.set_ylabel(\"Time (s)\")\n",
    "fig.tight_layout()"
   ]
  },
  {
   "cell_type": "markdown",
   "metadata": {},
   "source": [
    "As shown in the latter figure, the time to setup and and close the experiment is approximately 0.4 sec. In case of small array sizes, the difference between inserting values of data as arrays and inserting them row-by-row is relatively unimportant. At larger array sizes, i.e. above 10000 points, the cost of writing data as individual datapoints starts to become important.\n"
   ]
  },
  {
   "cell_type": "markdown",
   "metadata": {},
   "source": [
    "### Case2: Long experiment time "
   ]
  },
  {
   "cell_type": "code",
   "execution_count": 7,
   "metadata": {
    "execution": {
     "iopub.execute_input": "2024-10-29T11:24:07.309132Z",
     "iopub.status.busy": "2024-10-29T11:24:07.308698Z",
     "iopub.status.idle": "2024-10-29T11:24:27.307801Z",
     "shell.execute_reply": "2024-10-29T11:24:27.306761Z"
    }
   },
   "outputs": [
    {
     "name": "stdout",
     "output_type": "stream",
     "text": [
      "Starting experimental run with id: 15. \n",
      "Starting experimental run with id: 16. \n",
      "Starting experimental run with id: 17. \n"
     ]
    },
    {
     "name": "stdout",
     "output_type": "stream",
     "text": [
      "Starting experimental run with id: 18. \n",
      "Starting experimental run with id: 19. \n"
     ]
    },
    {
     "name": "stdout",
     "output_type": "stream",
     "text": [
      "Starting experimental run with id: 20. \n",
      "Starting experimental run with id: 21. \n"
     ]
    },
    {
     "name": "stdout",
     "output_type": "stream",
     "text": [
      "Starting experimental run with id: 22. \n",
      "Starting experimental run with id: 23. \n"
     ]
    },
    {
     "name": "stdout",
     "output_type": "stream",
     "text": [
      "Starting experimental run with id: 24. \n"
     ]
    },
    {
     "name": "stdout",
     "output_type": "stream",
     "text": [
      "Starting experimental run with id: 25. \n"
     ]
    },
    {
     "name": "stdout",
     "output_type": "stream",
     "text": [
      "Starting experimental run with id: 26. \n"
     ]
    },
    {
     "name": "stdout",
     "output_type": "stream",
     "text": [
      "Starting experimental run with id: 27. \n"
     ]
    },
    {
     "name": "stdout",
     "output_type": "stream",
     "text": [
      "Starting experimental run with id: 28. \n"
     ]
    }
   ],
   "source": [
    "sizes = [1, 500, 1000, 2000, 3000, 4000, 5000]\n",
    "nreps = 100\n",
    "t_numeric = []\n",
    "t_numeric_add = []\n",
    "t_numeric_run_ids = []\n",
    "t_array = []\n",
    "t_array_add = []\n",
    "t_array_run_ids = []\n",
    "for size in sizes:\n",
    "    tn, tna, run_id_n = insert_data(\"numeric\", size, nreps=nreps)\n",
    "    t_numeric.append(tn)\n",
    "    t_numeric_add.append(tna)\n",
    "    t_numeric_run_ids.append(run_id_n)\n",
    "\n",
    "    ta, taa, run_id_a = insert_data(\"array\", size, nreps=nreps)\n",
    "    t_array.append(ta)\n",
    "    t_array_add.append(taa)\n",
    "    t_array_run_ids.append(run_id_a)"
   ]
  },
  {
   "cell_type": "code",
   "execution_count": 8,
   "metadata": {
    "execution": {
     "iopub.execute_input": "2024-10-29T11:24:27.310319Z",
     "iopub.status.busy": "2024-10-29T11:24:27.309928Z",
     "iopub.status.idle": "2024-10-29T11:24:27.470852Z",
     "shell.execute_reply": "2024-10-29T11:24:27.470048Z"
    },
    "scrolled": true
   },
   "outputs": [
    {
     "data": {
      "image/png": "[encoded data removed]",
      "text/plain": [
       "<Figure size 640x480 with 1 Axes>"
      ]
     },
     "metadata": {},
     "output_type": "display_data"
    }
   ],
   "source": [
    "fig, ax = plt.subplots(1, 1)\n",
    "ax.plot(sizes, t_numeric, \"o-\", label=\"Inserting row-by-row\")\n",
    "ax.plot(sizes, t_numeric_add, \"o-\", label=\"Inserting row-by-row: add_result only\")\n",
    "ax.plot(sizes, t_array, \"d-\", label=\"Inserting as binary blob\")\n",
    "ax.plot(sizes, t_array_add, \"d-\", label=\"Inserting as binary blob: add_result only\")\n",
    "ax.legend()\n",
    "ax.set_xlabel(\"Array length\")\n",
    "ax.set_ylabel(\"Time (s)\")\n",
    "fig.tight_layout()"
   ]
  },
  {
   "cell_type": "markdown",
   "metadata": {},
   "source": [
    "However, as we increase the length of the experiment, as seen here by repeating the insertion 100 times, we see a big difference between inserting values of the data row-by-row and inserting it as a binary blob."
   ]
  },
  {
   "cell_type": "markdown",
   "metadata": {},
   "source": [
    "## Loading the data "
   ]
  },
  {
   "cell_type": "code",
   "execution_count": 9,
   "metadata": {
    "execution": {
     "iopub.execute_input": "2024-10-29T11:24:27.473942Z",
     "iopub.status.busy": "2024-10-29T11:24:27.473676Z",
     "iopub.status.idle": "2024-10-29T11:24:27.476948Z",
     "shell.execute_reply": "2024-10-29T11:24:27.476365Z"
    }
   },
   "outputs": [],
   "source": [
    "from qcodes.dataset import load_by_id"
   ]
  },
  {
   "cell_type": "markdown",
   "metadata": {},
   "source": [
    "As usual you can load the data by using the ``load_by_id`` function but you will notice that the different storage methods\n",
    "are reflected in shape of the data as it is retrieved. "
   ]
  },
  {
   "cell_type": "code",
   "execution_count": 10,
   "metadata": {
    "execution": {
     "iopub.execute_input": "2024-10-29T11:24:27.478866Z",
     "iopub.status.busy": "2024-10-29T11:24:27.478521Z",
     "iopub.status.idle": "2024-10-29T11:24:27.481437Z",
     "shell.execute_reply": "2024-10-29T11:24:27.480884Z"
    }
   },
   "outputs": [],
   "source": [
    "run_id_n = t_numeric_run_ids[0]\n",
    "run_id_a = t_array_run_ids[0]"
   ]
  },
  {
   "cell_type": "code",
   "execution_count": 11,
   "metadata": {
    "execution": {
     "iopub.execute_input": "2024-10-29T11:24:27.483439Z",
     "iopub.status.busy": "2024-10-29T11:24:27.483077Z",
     "iopub.status.idle": "2024-10-29T11:24:27.491392Z",
     "shell.execute_reply": "2024-10-29T11:24:27.490740Z"
    },
    "scrolled": true
   },
   "outputs": [
    {
     "data": {
      "text/plain": [
       "{'x1': {'x1': array([0.28650052, 0.28650052, 0.61436378, 0.61436378, 0.81812426,\n",
       "         0.81812426, 0.61930627, 0.61930627, 0.35930169, 0.35930169,\n",
       "         0.6168322 , 0.6168322 , 0.98989214, 0.98989214, 0.9202505 ,\n",
       "         0.9202505 , 0.47808328, 0.47808328, 0.50954073, 0.50954073,\n",
       "         0.09814399, 0.09814399, 0.4773199 , 0.4773199 , 0.39418057,\n",
       "         0.39418057, 0.08750214, 0.08750214, 0.16427666, 0.16427666,\n",
       "         0.51119709, 0.51119709, 0.74515833, 0.74515833, 0.75995842,\n",
       "         0.75995842, 0.49287289, 0.49287289, 0.98945966, 0.98945966,\n",
       "         0.8315754 , 0.8315754 , 0.63873444, 0.63873444, 0.99146325,\n",
       "         0.99146325, 0.07659046, 0.07659046, 0.09564983, 0.09564983,\n",
       "         0.60093759, 0.60093759, 0.14241442, 0.14241442, 0.21340973,\n",
       "         0.21340973, 0.27238426, 0.27238426, 0.56661417, 0.56661417,\n",
       "         0.38122442, 0.38122442, 0.98834951, 0.98834951, 0.56878323,\n",
       "         0.56878323, 0.28828148, 0.28828148, 0.63742976, 0.63742976,\n",
       "         0.13449132, 0.13449132, 0.17968461, 0.17968461, 0.11378197,\n",
       "         0.11378197, 0.20066821, 0.20066821, 0.87857585, 0.87857585,\n",
       "         0.64027042, 0.64027042, 0.85037034, 0.85037034, 0.18968035,\n",
       "         0.18968035, 0.12267319, 0.12267319, 0.62199289, 0.62199289,\n",
       "         0.13298394, 0.13298394, 0.58853962, 0.58853962, 0.92500417,\n",
       "         0.92500417, 0.28322297, 0.28322297, 0.31941727, 0.31941727,\n",
       "         0.70606251, 0.70606251, 0.7980919 , 0.7980919 , 0.67794115,\n",
       "         0.67794115, 0.48936909, 0.48936909, 0.98831326, 0.98831326,\n",
       "         0.34810258, 0.34810258, 0.58813379, 0.58813379, 0.82888817,\n",
       "         0.82888817, 0.06190962, 0.06190962, 0.86582287, 0.86582287,\n",
       "         0.47629411, 0.47629411, 0.41212332, 0.41212332, 0.33354275,\n",
       "         0.33354275, 0.35540327, 0.35540327, 0.16818449, 0.16818449,\n",
       "         0.11047654, 0.11047654, 0.38665496, 0.38665496, 0.92004518,\n",
       "         0.92004518, 0.9607216 , 0.9607216 , 0.34504047, 0.34504047,\n",
       "         0.17740224, 0.17740224, 0.94719619, 0.94719619, 0.30099354,\n",
       "         0.30099354, 0.95231805, 0.95231805, 0.03506546, 0.03506546,\n",
       "         0.46147751, 0.46147751, 0.72700503, 0.72700503, 0.50682806,\n",
       "         0.50682806, 0.60929936, 0.60929936, 0.24722606, 0.24722606,\n",
       "         0.71503173, 0.71503173, 0.18904116, 0.18904116, 0.72549434,\n",
       "         0.72549434, 0.80574588, 0.80574588, 0.1696497 , 0.1696497 ,\n",
       "         0.47899392, 0.47899392, 0.85825681, 0.85825681, 0.85235377,\n",
       "         0.85235377, 0.27135607, 0.27135607, 0.41894352, 0.41894352,\n",
       "         0.18562205, 0.18562205, 0.66160525, 0.66160525, 0.36236458,\n",
       "         0.36236458, 0.51387212, 0.51387212, 0.62818763, 0.62818763,\n",
       "         0.47396775, 0.47396775, 0.1234224 , 0.1234224 , 0.1581081 ,\n",
       "         0.1581081 , 0.65026755, 0.65026755, 0.9333325 , 0.9333325 ])}}"
      ]
     },
     "execution_count": 11,
     "metadata": {},
     "output_type": "execute_result"
    }
   ],
   "source": [
    "ds = load_by_id(run_id_n)\n",
    "ds.get_parameter_data(\"x1\")"
   ]
  },
  {
   "cell_type": "markdown",
   "metadata": {},
   "source": [
    "And a dataset stored as binary arrays"
   ]
  },
  {
   "cell_type": "code",
   "execution_count": 12,
   "metadata": {
    "execution": {
     "iopub.execute_input": "2024-10-29T11:24:27.493481Z",
     "iopub.status.busy": "2024-10-29T11:24:27.492952Z",
     "iopub.status.idle": "2024-10-29T11:24:27.512133Z",
     "shell.execute_reply": "2024-10-29T11:24:27.511559Z"
    },
    "scrolled": true
   },
   "outputs": [
    {
     "data": {
      "text/plain": [
       "{'x1': {'x1': array([[0.0843213 ],\n",
       "         [0.0843213 ],\n",
       "         [0.95931528],\n",
       "         [0.95931528],\n",
       "         [0.07715107],\n",
       "         [0.07715107],\n",
       "         [0.34872038],\n",
       "         [0.34872038],\n",
       "         [0.55646919],\n",
       "         [0.55646919],\n",
       "         [0.66099293],\n",
       "         [0.66099293],\n",
       "         [0.77869167],\n",
       "         [0.77869167],\n",
       "         [0.88217775],\n",
       "         [0.88217775],\n",
       "         [0.47782548],\n",
       "         [0.47782548],\n",
       "         [0.54057787],\n",
       "         [0.54057787],\n",
       "         [0.56556656],\n",
       "         [0.56556656],\n",
       "         [0.61359471],\n",
       "         [0.61359471],\n",
       "         [0.88610346],\n",
       "         [0.88610346],\n",
       "         [0.90197499],\n",
       "         [0.90197499],\n",
       "         [0.27252679],\n",
       "         [0.27252679],\n",
       "         [0.85471035],\n",
       "         [0.85471035],\n",
       "         [0.58828883],\n",
       "         [0.58828883],\n",
       "         [0.73487568],\n",
       "         [0.73487568],\n",
       "         [0.61266428],\n",
       "         [0.61266428],\n",
       "         [0.32581088],\n",
       "         [0.32581088],\n",
       "         [0.47067221],\n",
       "         [0.47067221],\n",
       "         [0.37438727],\n",
       "         [0.37438727],\n",
       "         [0.24296708],\n",
       "         [0.24296708],\n",
       "         [0.31018181],\n",
       "         [0.31018181],\n",
       "         [0.16445985],\n",
       "         [0.16445985],\n",
       "         [0.21394582],\n",
       "         [0.21394582],\n",
       "         [0.42981   ],\n",
       "         [0.42981   ],\n",
       "         [0.99432144],\n",
       "         [0.99432144],\n",
       "         [0.9667261 ],\n",
       "         [0.9667261 ],\n",
       "         [0.06760083],\n",
       "         [0.06760083],\n",
       "         [0.68642606],\n",
       "         [0.68642606],\n",
       "         [0.9854573 ],\n",
       "         [0.9854573 ],\n",
       "         [0.08939617],\n",
       "         [0.08939617],\n",
       "         [0.0838806 ],\n",
       "         [0.0838806 ],\n",
       "         [0.83215259],\n",
       "         [0.83215259],\n",
       "         [0.73353204],\n",
       "         [0.73353204],\n",
       "         [0.79513585],\n",
       "         [0.79513585],\n",
       "         [0.03295235],\n",
       "         [0.03295235],\n",
       "         [0.39113703],\n",
       "         [0.39113703],\n",
       "         [0.05711566],\n",
       "         [0.05711566],\n",
       "         [0.81771279],\n",
       "         [0.81771279],\n",
       "         [0.13031727],\n",
       "         [0.13031727],\n",
       "         [0.05336034],\n",
       "         [0.05336034],\n",
       "         [0.02684237],\n",
       "         [0.02684237],\n",
       "         [0.73363913],\n",
       "         [0.73363913],\n",
       "         [0.38471276],\n",
       "         [0.38471276],\n",
       "         [0.38698802],\n",
       "         [0.38698802],\n",
       "         [0.46852949],\n",
       "         [0.46852949],\n",
       "         [0.66218365],\n",
       "         [0.66218365],\n",
       "         [0.2560784 ],\n",
       "         [0.2560784 ],\n",
       "         [0.39416871],\n",
       "         [0.39416871],\n",
       "         [0.27732122],\n",
       "         [0.27732122],\n",
       "         [0.69834189],\n",
       "         [0.69834189],\n",
       "         [0.38097196],\n",
       "         [0.38097196],\n",
       "         [0.55571963],\n",
       "         [0.55571963],\n",
       "         [0.5022992 ],\n",
       "         [0.5022992 ],\n",
       "         [0.76526141],\n",
       "         [0.76526141],\n",
       "         [0.42814062],\n",
       "         [0.42814062],\n",
       "         [0.65760257],\n",
       "         [0.65760257],\n",
       "         [0.56765406],\n",
       "         [0.56765406],\n",
       "         [0.16278969],\n",
       "         [0.16278969],\n",
       "         [0.6850695 ],\n",
       "         [0.6850695 ],\n",
       "         [0.0102443 ],\n",
       "         [0.0102443 ],\n",
       "         [0.10452533],\n",
       "         [0.10452533],\n",
       "         [0.79197284],\n",
       "         [0.79197284],\n",
       "         [0.26996184],\n",
       "         [0.26996184],\n",
       "         [0.86501184],\n",
       "         [0.86501184],\n",
       "         [0.30842327],\n",
       "         [0.30842327],\n",
       "         [0.40081888],\n",
       "         [0.40081888],\n",
       "         [0.08317433],\n",
       "         [0.08317433],\n",
       "         [0.9461385 ],\n",
       "         [0.9461385 ],\n",
       "         [0.91463639],\n",
       "         [0.91463639],\n",
       "         [0.94997562],\n",
       "         [0.94997562],\n",
       "         [0.7982861 ],\n",
       "         [0.7982861 ],\n",
       "         [0.5827924 ],\n",
       "         [0.5827924 ],\n",
       "         [0.8329103 ],\n",
       "         [0.8329103 ],\n",
       "         [0.31566866],\n",
       "         [0.31566866],\n",
       "         [0.81106773],\n",
       "         [0.81106773],\n",
       "         [0.28640265],\n",
       "         [0.28640265],\n",
       "         [0.74460995],\n",
       "         [0.74460995],\n",
       "         [0.84592888],\n",
       "         [0.84592888],\n",
       "         [0.99789688],\n",
       "         [0.99789688],\n",
       "         [0.01385404],\n",
       "         [0.01385404],\n",
       "         [0.40674063],\n",
       "         [0.40674063],\n",
       "         [0.45283154],\n",
       "         [0.45283154],\n",
       "         [0.93958746],\n",
       "         [0.93958746],\n",
       "         [0.81979568],\n",
       "         [0.81979568],\n",
       "         [0.0034771 ],\n",
       "         [0.0034771 ],\n",
       "         [0.90186967],\n",
       "         [0.90186967],\n",
       "         [0.52151463],\n",
       "         [0.52151463],\n",
       "         [0.94764483],\n",
       "         [0.94764483],\n",
       "         [0.85928598],\n",
       "         [0.85928598],\n",
       "         [0.5035426 ],\n",
       "         [0.5035426 ],\n",
       "         [0.71326665],\n",
       "         [0.71326665],\n",
       "         [0.63659605],\n",
       "         [0.63659605],\n",
       "         [0.11962503],\n",
       "         [0.11962503],\n",
       "         [0.93730939],\n",
       "         [0.93730939],\n",
       "         [0.73153032],\n",
       "         [0.73153032],\n",
       "         [0.88157107],\n",
       "         [0.88157107],\n",
       "         [0.12348203],\n",
       "         [0.12348203]])}}"
      ]
     },
     "execution_count": 12,
     "metadata": {},
     "output_type": "execute_result"
    }
   ],
   "source": [
    "ds = load_by_id(run_id_a)\n",
    "ds.get_parameter_data(\"x1\")"
   ]
  },
  {
   "cell_type": "code",
   "execution_count": null,
   "metadata": {},
   "outputs": [],
   "source": []
  }
 ],
 "metadata": {
  "kernelspec": {
   "display_name": "Python 3",
   "language": "python",
   "name": "python3"
  },
  "language_info": {
   "codemirror_mode": {
    "name": "ipython",
    "version": 3
   },
   "file_extension": ".py",
   "mimetype": "text/x-python",
   "name": "python",
   "nbconvert_exporter": "python",
   "pygments_lexer": "ipython3",
   "version": "3.11.10"
  },
  "nbsphinx": {
   "timeout": 600
  },
  "toc": {
   "base_numbering": 1,
   "nav_menu": {},
   "number_sections": true,
   "sideBar": true,
   "skip_h1_title": false,
   "title_cell": "Table of Contents",
   "title_sidebar": "Contents",
   "toc_cell": false,
   "toc_position": {},
   "toc_section_display": true,
   "toc_window_display": false
  },
  "varInspector": {
   "cols": {
    "lenName": 16,
    "lenType": 16,
    "lenVar": 40
   },
   "kernels_config": {
    "python": {
     "delete_cmd_postfix": "",
     "delete_cmd_prefix": "del ",
     "library": "var_list.py",
     "varRefreshCmd": "print(var_dic_list())"
    },
    "r": {
     "delete_cmd_postfix": ") ",
     "delete_cmd_prefix": "rm(",
     "library": "var_list.r",
     "varRefreshCmd": "cat(var_dic_list()) "
    }
   },
   "types_to_exclude": [
    "module",
    "function",
    "builtin_function_or_method",
    "instance",
    "_Feature"
   ],
   "window_display": false
  }
 },
 "nbformat": 4,
 "nbformat_minor": 4
}
