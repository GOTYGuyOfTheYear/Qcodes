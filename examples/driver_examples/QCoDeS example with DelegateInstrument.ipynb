{
 "cells": [
  {
   "cell_type": "markdown",
   "id": "plain-primary",
   "metadata": {},
   "source": [
    "# Qcodes example with DelegateInstrument driver\n",
    "\n",
    "This notebooks explains how to use the `DelegateInstrument` driver.\n",
    "\n",
    "## About\n",
    "The goal of the `DelegateInstrument` driver is to make it easier to combine different parameters together into a new \"virtual\" instrument. Each parameter on a `DelegateInstrument` can point to one or more parameters on other instruments in the station.\n",
    "\n",
    "## Usage\n",
    "The way it's used is mainly by specifying an entry in the station YAML. For instance, let's say you want to use a magnetic field coil. The driver has a method set_field(value, block), that by default is set to block=True, which means the field is ramped in a way that blocks further execution until the desired value is reached. However, let's say you are creating a measurement in which you want the parameter to be set, and while the value is ramping, you want to measure other parameters. This can be done by using `DelegateInstrument` and specifying a custom `setter` for the parameter that gets and sets the magnetic field.\n",
    "\n",
    "By default, each parameter is represented by a `DelegateParameter`. The `DelegateInstrument` also supports passing multiple source parameters to a given parameter. In order to do this, simply specify multiple parameters in the dictionary values  under the `parameters` key.\n",
    "\n",
    "It can also add instrument channels, specified under a separate key `channels`, shown in the second half of the notebook."
   ]
  },
  {
   "cell_type": "code",
   "execution_count": 1,
   "id": "sapphire-quebec",
   "metadata": {
    "execution": {
     "iopub.execute_input": "2024-10-29T11:23:22.542472Z",
     "iopub.status.busy": "2024-10-29T11:23:22.542299Z",
     "iopub.status.idle": "2024-10-29T11:23:22.548774Z",
     "shell.execute_reply": "2024-10-29T11:23:22.548257Z"
    }
   },
   "outputs": [
    {
     "name": "stdout",
     "output_type": "stream",
     "text": [
      "Writing example.yaml\n"
     ]
    }
   ],
   "source": [
    "%%writefile example.yaml\n",
    "\n",
    "instruments:\n",
    "  field_X:\n",
    "    type: qcodes.instrument_drivers.mock_instruments.MockField\n",
    "\n",
    "  field:\n",
    "    type: qcodes.instrument.delegate.DelegateInstrument\n",
    "    init:\n",
    "      parameters:\n",
    "        X:\n",
    "          - field_X.field\n",
    "        ramp_rate:\n",
    "          - field_X.ramp_rate\n",
    "        combined:\n",
    "          - field_X.field\n",
    "          - field_X.ramp_rate\n",
    "      set_initial_values_on_load: true\n",
    "      initial_values:\n",
    "        ramp_rate: 1.0\n",
    "      setters:\n",
    "        X:\n",
    "          method: field_X.set_field\n",
    "          block: false"
   ]
  },
  {
   "cell_type": "code",
   "execution_count": 2,
   "id": "younger-newspaper",
   "metadata": {
    "execution": {
     "iopub.execute_input": "2024-10-29T11:23:22.550568Z",
     "iopub.status.busy": "2024-10-29T11:23:22.550228Z",
     "iopub.status.idle": "2024-10-29T11:23:23.198540Z",
     "shell.execute_reply": "2024-10-29T11:23:23.197951Z"
    }
   },
   "outputs": [
    {
     "name": "stdout",
     "output_type": "stream",
     "text": [
      "Logging hadn't been started.\n",
      "Activating auto-logging. Current session state plus future input saved.\n",
      "Filename       : /home/runner/.qcodes/logs/command_history.log\n",
      "Mode           : append\n",
      "Output logging : True\n",
      "Raw input log  : False\n",
      "Timestamping   : True\n",
      "State          : active\n"
     ]
    },
    {
     "name": "stdout",
     "output_type": "stream",
     "text": [
      "Qcodes Logfile : /home/runner/.qcodes/logs/241029-9047-qcodes.log\n"
     ]
    }
   ],
   "source": [
    "import qcodes as qc\n",
    "from qcodes.dataset import (\n",
    "    Measurement,\n",
    "    initialise_or_create_database_at,\n",
    "    load_or_create_experiment,\n",
    ")"
   ]
  },
  {
   "cell_type": "code",
   "execution_count": 3,
   "id": "muslim-briefs",
   "metadata": {
    "execution": {
     "iopub.execute_input": "2024-10-29T11:23:23.200588Z",
     "iopub.status.busy": "2024-10-29T11:23:23.200132Z",
     "iopub.status.idle": "2024-10-29T11:23:23.220501Z",
     "shell.execute_reply": "2024-10-29T11:23:23.220035Z"
    }
   },
   "outputs": [],
   "source": [
    "station = qc.Station(config_file=\"example.yaml\")"
   ]
  },
  {
   "cell_type": "code",
   "execution_count": 4,
   "id": "greatest-antenna",
   "metadata": {
    "execution": {
     "iopub.execute_input": "2024-10-29T11:23:23.222199Z",
     "iopub.status.busy": "2024-10-29T11:23:23.221895Z",
     "iopub.status.idle": "2024-10-29T11:23:23.241448Z",
     "shell.execute_reply": "2024-10-29T11:23:23.240882Z"
    }
   },
   "outputs": [],
   "source": [
    "field_X = station.load_field_X()\n",
    "field = station.load_field(station=station)"
   ]
  },
  {
   "cell_type": "code",
   "execution_count": 5,
   "id": "every-playing",
   "metadata": {
    "execution": {
     "iopub.execute_input": "2024-10-29T11:23:23.243556Z",
     "iopub.status.busy": "2024-10-29T11:23:23.243062Z",
     "iopub.status.idle": "2024-10-29T11:23:23.248975Z",
     "shell.execute_reply": "2024-10-29T11:23:23.248426Z"
    }
   },
   "outputs": [
    {
     "data": {
      "text/plain": [
       "0.0"
      ]
     },
     "execution_count": 5,
     "metadata": {},
     "output_type": "execute_result"
    }
   ],
   "source": [
    "field.X()"
   ]
  },
  {
   "cell_type": "code",
   "execution_count": 6,
   "id": "undefined-worst",
   "metadata": {
    "execution": {
     "iopub.execute_input": "2024-10-29T11:23:23.250814Z",
     "iopub.status.busy": "2024-10-29T11:23:23.250487Z",
     "iopub.status.idle": "2024-10-29T11:23:23.253396Z",
     "shell.execute_reply": "2024-10-29T11:23:23.252901Z"
    }
   },
   "outputs": [],
   "source": [
    "field.X(1.0)"
   ]
  },
  {
   "cell_type": "code",
   "execution_count": 7,
   "id": "recreational-suggestion",
   "metadata": {
    "execution": {
     "iopub.execute_input": "2024-10-29T11:23:23.254919Z",
     "iopub.status.busy": "2024-10-29T11:23:23.254745Z",
     "iopub.status.idle": "2024-10-29T11:23:23.258439Z",
     "shell.execute_reply": "2024-10-29T11:23:23.257993Z"
    }
   },
   "outputs": [
    {
     "data": {
      "text/plain": [
       "7.079839706420898e-05"
      ]
     },
     "execution_count": 7,
     "metadata": {},
     "output_type": "execute_result"
    }
   ],
   "source": [
    "field.X()"
   ]
  },
  {
   "cell_type": "code",
   "execution_count": 8,
   "id": "adopted-exchange",
   "metadata": {
    "execution": {
     "iopub.execute_input": "2024-10-29T11:23:23.260081Z",
     "iopub.status.busy": "2024-10-29T11:23:23.259906Z",
     "iopub.status.idle": "2024-10-29T11:23:23.263807Z",
     "shell.execute_reply": "2024-10-29T11:23:23.263223Z"
    }
   },
   "outputs": [
    {
     "data": {
      "text/plain": [
       "0.0001569072405497233"
      ]
     },
     "execution_count": 8,
     "metadata": {},
     "output_type": "execute_result"
    }
   ],
   "source": [
    "field.X()"
   ]
  },
  {
   "cell_type": "code",
   "execution_count": 9,
   "id": "bound-broadcasting",
   "metadata": {
    "execution": {
     "iopub.execute_input": "2024-10-29T11:23:23.265405Z",
     "iopub.status.busy": "2024-10-29T11:23:23.265233Z",
     "iopub.status.idle": "2024-10-29T11:23:23.269120Z",
     "shell.execute_reply": "2024-10-29T11:23:23.268553Z"
    }
   },
   "outputs": [
    {
     "data": {
      "text/plain": [
       "0.00024159749348958334"
      ]
     },
     "execution_count": 9,
     "metadata": {},
     "output_type": "execute_result"
    }
   ],
   "source": [
    "field.X()"
   ]
  },
  {
   "cell_type": "code",
   "execution_count": 10,
   "id": "casual-ghost",
   "metadata": {
    "execution": {
     "iopub.execute_input": "2024-10-29T11:23:23.270987Z",
     "iopub.status.busy": "2024-10-29T11:23:23.270651Z",
     "iopub.status.idle": "2024-10-29T11:23:23.274416Z",
     "shell.execute_reply": "2024-10-29T11:23:23.273933Z"
    }
   },
   "outputs": [
    {
     "data": {
      "text/plain": [
       "0.0003345648447672526"
      ]
     },
     "execution_count": 10,
     "metadata": {},
     "output_type": "execute_result"
    }
   ],
   "source": [
    "field.X()"
   ]
  },
  {
   "cell_type": "markdown",
   "id": "alike-process",
   "metadata": {},
   "source": [
    "As you can see, the field is now ramped in the background with the specified ramp rate. Now, let's try to create a measurement that uses this ability, and ramps the field in the background while measuring:"
   ]
  },
  {
   "cell_type": "code",
   "execution_count": 11,
   "id": "sustained-tiger",
   "metadata": {
    "execution": {
     "iopub.execute_input": "2024-10-29T11:23:23.276122Z",
     "iopub.status.busy": "2024-10-29T11:23:23.275788Z",
     "iopub.status.idle": "2024-10-29T11:23:23.280676Z",
     "shell.execute_reply": "2024-10-29T11:23:23.280238Z"
    }
   },
   "outputs": [],
   "source": [
    "field.ramp_rate(10.0)\n",
    "field_X.field(0.0)"
   ]
  },
  {
   "cell_type": "code",
   "execution_count": 12,
   "id": "pharmaceutical-partition",
   "metadata": {
    "execution": {
     "iopub.execute_input": "2024-10-29T11:23:23.282427Z",
     "iopub.status.busy": "2024-10-29T11:23:23.282009Z",
     "iopub.status.idle": "2024-10-29T11:23:23.285806Z",
     "shell.execute_reply": "2024-10-29T11:23:23.285238Z"
    }
   },
   "outputs": [
    {
     "data": {
      "text/plain": [
       "0.0"
      ]
     },
     "execution_count": 12,
     "metadata": {},
     "output_type": "execute_result"
    }
   ],
   "source": [
    "field.X()"
   ]
  },
  {
   "cell_type": "code",
   "execution_count": 13,
   "id": "happy-ordinance",
   "metadata": {
    "execution": {
     "iopub.execute_input": "2024-10-29T11:23:23.287394Z",
     "iopub.status.busy": "2024-10-29T11:23:23.287199Z",
     "iopub.status.idle": "2024-10-29T11:23:24.544640Z",
     "shell.execute_reply": "2024-10-29T11:23:24.544096Z"
    }
   },
   "outputs": [
    {
     "name": "stdout",
     "output_type": "stream",
     "text": [
      "Starting experimental run with id: 1. \n"
     ]
    }
   ],
   "source": [
    "import time\n",
    "\n",
    "initialise_or_create_database_at(\"delegate_instrument_example.db\")\n",
    "load_or_create_experiment(\"delegate_instrument_experiment\")\n",
    "\n",
    "meas = Measurement(station=station)\n",
    "meas.register_parameter(field.X)\n",
    "\n",
    "with meas.run() as datasaver:\n",
    "    for B in [0.1, 0.0]:\n",
    "        field.X(B)\n",
    "        while field.X() != B:\n",
    "            datasaver.add_result((field.X, field.X()))\n",
    "            time.sleep(0.01)\n",
    "    datasaver.flush_data_to_database()"
   ]
  },
  {
   "cell_type": "code",
   "execution_count": 14,
   "id": "short-medium",
   "metadata": {
    "execution": {
     "iopub.execute_input": "2024-10-29T11:23:24.546601Z",
     "iopub.status.busy": "2024-10-29T11:23:24.546254Z",
     "iopub.status.idle": "2024-10-29T11:23:25.149089Z",
     "shell.execute_reply": "2024-10-29T11:23:25.148558Z"
    }
   },
   "outputs": [
    {
     "data": {
      "text/plain": [
       "<Axes: >"
      ]
     },
     "execution_count": 14,
     "metadata": {},
     "output_type": "execute_result"
    },
    {
     "data": {
      "image/png": "[encoded data removed]",
      "text/plain": [
       "<Figure size 640x480 with 1 Axes>"
      ]
     },
     "metadata": {},
     "output_type": "display_data"
    }
   ],
   "source": [
    "datasaver.dataset.to_pandas_dataframe().plot()"
   ]
  },
  {
   "cell_type": "markdown",
   "id": "incomplete-vietnamese",
   "metadata": {},
   "source": [
    "When specifying multiple source parameters on a given parameter, the grouped parameter will automatically return a `namedtuple` that returns both values."
   ]
  },
  {
   "cell_type": "code",
   "execution_count": 15,
   "id": "dangerous-finder",
   "metadata": {
    "execution": {
     "iopub.execute_input": "2024-10-29T11:23:25.150956Z",
     "iopub.status.busy": "2024-10-29T11:23:25.150596Z",
     "iopub.status.idle": "2024-10-29T11:23:25.154481Z",
     "shell.execute_reply": "2024-10-29T11:23:25.154031Z"
    }
   },
   "outputs": [
    {
     "data": {
      "text/plain": [
       "combined(field=0.0, ramp_rate=10.0)"
      ]
     },
     "execution_count": 15,
     "metadata": {},
     "output_type": "execute_result"
    }
   ],
   "source": [
    "field.combined()"
   ]
  },
  {
   "cell_type": "markdown",
   "id": "consolidated-cooper",
   "metadata": {},
   "source": [
    "We can now also create a custom parameter that does a simple calculation based on the current parameters."
   ]
  },
  {
   "cell_type": "code",
   "execution_count": 16,
   "id": "designed-bloom",
   "metadata": {
    "execution": {
     "iopub.execute_input": "2024-10-29T11:23:25.156196Z",
     "iopub.status.busy": "2024-10-29T11:23:25.155933Z",
     "iopub.status.idle": "2024-10-29T11:23:25.159128Z",
     "shell.execute_reply": "2024-10-29T11:23:25.158665Z"
    }
   },
   "outputs": [],
   "source": [
    "import numpy as np\n",
    "\n",
    "\n",
    "def calculate_ramp_time(X, ramp_rate):\n",
    "    \"\"\"Calculate ramp time in seconds\"\"\"\n",
    "    dfield = np.abs(field.target_field - X)\n",
    "    return 60.0 * dfield / ramp_rate"
   ]
  },
  {
   "cell_type": "code",
   "execution_count": 17,
   "id": "disabled-logic",
   "metadata": {
    "execution": {
     "iopub.execute_input": "2024-10-29T11:23:25.160919Z",
     "iopub.status.busy": "2024-10-29T11:23:25.160510Z",
     "iopub.status.idle": "2024-10-29T11:23:25.163689Z",
     "shell.execute_reply": "2024-10-29T11:23:25.163105Z"
    },
    "scrolled": true
   },
   "outputs": [],
   "source": [
    "field._create_and_add_parameter(\n",
    "    group_name=\"ramp_time\",\n",
    "    station=station,\n",
    "    paths=[\"field_X.field\", \"field_X.ramp_rate\"],\n",
    "    formatter=calculate_ramp_time,\n",
    ")"
   ]
  },
  {
   "cell_type": "code",
   "execution_count": 18,
   "id": "adverse-february",
   "metadata": {
    "execution": {
     "iopub.execute_input": "2024-10-29T11:23:25.165329Z",
     "iopub.status.busy": "2024-10-29T11:23:25.165006Z",
     "iopub.status.idle": "2024-10-29T11:23:25.168989Z",
     "shell.execute_reply": "2024-10-29T11:23:25.168529Z"
    }
   },
   "outputs": [
    {
     "data": {
      "text/plain": [
       "np.float64(6.0)"
      ]
     },
     "execution_count": 18,
     "metadata": {},
     "output_type": "execute_result"
    }
   ],
   "source": [
    "field.ramp_rate(1.0)\n",
    "field.target_field = 0.1\n",
    "field.ramp_time()"
   ]
  },
  {
   "cell_type": "code",
   "execution_count": 19,
   "id": "statutory-xerox",
   "metadata": {
    "execution": {
     "iopub.execute_input": "2024-10-29T11:23:25.170658Z",
     "iopub.status.busy": "2024-10-29T11:23:25.170311Z",
     "iopub.status.idle": "2024-10-29T11:23:25.172894Z",
     "shell.execute_reply": "2024-10-29T11:23:25.172435Z"
    }
   },
   "outputs": [],
   "source": [
    "field.X(0.1)"
   ]
  },
  {
   "cell_type": "code",
   "execution_count": 20,
   "id": "varying-auditor",
   "metadata": {
    "execution": {
     "iopub.execute_input": "2024-10-29T11:23:25.174515Z",
     "iopub.status.busy": "2024-10-29T11:23:25.174179Z",
     "iopub.status.idle": "2024-10-29T11:23:25.177972Z",
     "shell.execute_reply": "2024-10-29T11:23:25.177402Z"
    }
   },
   "outputs": [
    {
     "data": {
      "text/plain": [
       "np.float64(5.996250152587891)"
      ]
     },
     "execution_count": 20,
     "metadata": {},
     "output_type": "execute_result"
    }
   ],
   "source": [
    "field.ramp_time()"
   ]
  },
  {
   "cell_type": "code",
   "execution_count": 21,
   "id": "chubby-nickel",
   "metadata": {
    "execution": {
     "iopub.execute_input": "2024-10-29T11:23:25.179739Z",
     "iopub.status.busy": "2024-10-29T11:23:25.179402Z",
     "iopub.status.idle": "2024-10-29T11:23:26.183747Z",
     "shell.execute_reply": "2024-10-29T11:23:26.183208Z"
    }
   },
   "outputs": [
    {
     "data": {
      "text/plain": [
       "np.float64(4.990683794021607)"
      ]
     },
     "execution_count": 21,
     "metadata": {},
     "output_type": "execute_result"
    }
   ],
   "source": [
    "import time\n",
    "\n",
    "time.sleep(1.0)\n",
    "field.ramp_time()"
   ]
  },
  {
   "cell_type": "code",
   "execution_count": 22,
   "id": "italian-liberty",
   "metadata": {
    "execution": {
     "iopub.execute_input": "2024-10-29T11:23:26.185564Z",
     "iopub.status.busy": "2024-10-29T11:23:26.185212Z",
     "iopub.status.idle": "2024-10-29T11:23:27.189811Z",
     "shell.execute_reply": "2024-10-29T11:23:27.189225Z"
    }
   },
   "outputs": [
    {
     "data": {
      "text/plain": [
       "np.float64(3.9847812652587895)"
      ]
     },
     "execution_count": 22,
     "metadata": {},
     "output_type": "execute_result"
    }
   ],
   "source": [
    "import time\n",
    "\n",
    "time.sleep(1.0)\n",
    "field.ramp_time()"
   ]
  },
  {
   "attachments": {},
   "cell_type": "markdown",
   "id": "c1145a2d",
   "metadata": {},
   "source": [
    "## Devices with channels"
   ]
  },
  {
   "cell_type": "markdown",
   "id": "182693f8",
   "metadata": {},
   "source": [
    "The YAML file below specifies the instruments with the channels/parameters we wish to group into a new instrument, here called \"device\". The first example simply adds the channel 'as is' using self.add_submodule, while the readout parameter is added as a DelegateParameter."
   ]
  },
  {
   "cell_type": "code",
   "execution_count": 23,
   "id": "a88d5103",
   "metadata": {
    "execution": {
     "iopub.execute_input": "2024-10-29T11:23:27.191892Z",
     "iopub.status.busy": "2024-10-29T11:23:27.191463Z",
     "iopub.status.idle": "2024-10-29T11:23:27.195335Z",
     "shell.execute_reply": "2024-10-29T11:23:27.194747Z"
    }
   },
   "outputs": [
    {
     "name": "stdout",
     "output_type": "stream",
     "text": [
      "Overwriting example.yaml\n"
     ]
    }
   ],
   "source": [
    "%%writefile example.yaml\n",
    "\n",
    "instruments:\n",
    "  lockin:\n",
    "    type: qcodes.instrument_drivers.mock_instruments.MockLockin\n",
    "\n",
    "  dac:\n",
    "    type: qcodes.instrument_drivers.mock_instruments.MockDAC\n",
    "\n",
    "  device:\n",
    "    type: qcodes.instrument.delegate.DelegateInstrument\n",
    "    init:\n",
    "      parameters:\n",
    "        readout: lockin.X\n",
    "      channels:\n",
    "        gate_1: dac.ch01\n",
    "      set_initial_values_on_load: true\n",
    "      initial_values:\n",
    "        readout: 1e-5\n",
    "        gate_1.voltage.post_delay: 0.01"
   ]
  },
  {
   "cell_type": "code",
   "execution_count": 24,
   "id": "91f2a8ab",
   "metadata": {
    "execution": {
     "iopub.execute_input": "2024-10-29T11:23:27.197080Z",
     "iopub.status.busy": "2024-10-29T11:23:27.196649Z",
     "iopub.status.idle": "2024-10-29T11:23:27.206186Z",
     "shell.execute_reply": "2024-10-29T11:23:27.205632Z"
    }
   },
   "outputs": [],
   "source": [
    "station = qc.Station(config_file=\"example.yaml\")"
   ]
  },
  {
   "cell_type": "code",
   "execution_count": 25,
   "id": "45b22762",
   "metadata": {
    "execution": {
     "iopub.execute_input": "2024-10-29T11:23:27.208124Z",
     "iopub.status.busy": "2024-10-29T11:23:27.207668Z",
     "iopub.status.idle": "2024-10-29T11:23:27.237939Z",
     "shell.execute_reply": "2024-10-29T11:23:27.237456Z"
    }
   },
   "outputs": [],
   "source": [
    "lockin = station.load_lockin()\n",
    "dac = station.load_dac()\n",
    "device = station.load_device(station=station)"
   ]
  },
  {
   "cell_type": "code",
   "execution_count": 26,
   "id": "9bfa54fb",
   "metadata": {
    "execution": {
     "iopub.execute_input": "2024-10-29T11:23:27.239617Z",
     "iopub.status.busy": "2024-10-29T11:23:27.239342Z",
     "iopub.status.idle": "2024-10-29T11:23:27.242334Z",
     "shell.execute_reply": "2024-10-29T11:23:27.241885Z"
    }
   },
   "outputs": [
    {
     "name": "stdout",
     "output_type": "stream",
     "text": [
      "<MockDACChannel: dac_ch01 of MockDAC: dac>\n",
      "0.01\n"
     ]
    }
   ],
   "source": [
    "print(device.gate_1)\n",
    "print(device.gate_1.voltage.post_delay)"
   ]
  },
  {
   "cell_type": "code",
   "execution_count": 27,
   "id": "91d57fe0",
   "metadata": {
    "execution": {
     "iopub.execute_input": "2024-10-29T11:23:27.244068Z",
     "iopub.status.busy": "2024-10-29T11:23:27.243732Z",
     "iopub.status.idle": "2024-10-29T11:23:27.258576Z",
     "shell.execute_reply": "2024-10-29T11:23:27.258012Z"
    }
   },
   "outputs": [
    {
     "name": "stdout",
     "output_type": "stream",
     "text": [
      "0.0\n"
     ]
    },
    {
     "data": {
      "text/plain": [
       "-0.6"
      ]
     },
     "execution_count": 27,
     "metadata": {},
     "output_type": "execute_result"
    }
   ],
   "source": [
    "print(device.gate_1.voltage())\n",
    "device.gate_1.voltage(-0.6)\n",
    "device.gate_1.voltage()"
   ]
  },
  {
   "cell_type": "markdown",
   "id": "37e1c2c3",
   "metadata": {},
   "source": [
    "The second example adds a channel using a custom channel class, which takes the initial channel and its name as input and has a parameter current_valid_ranges."
   ]
  },
  {
   "cell_type": "code",
   "execution_count": 28,
   "id": "7e4becd1",
   "metadata": {
    "execution": {
     "iopub.execute_input": "2024-10-29T11:23:27.260435Z",
     "iopub.status.busy": "2024-10-29T11:23:27.260261Z",
     "iopub.status.idle": "2024-10-29T11:23:27.264536Z",
     "shell.execute_reply": "2024-10-29T11:23:27.264007Z"
    }
   },
   "outputs": [
    {
     "name": "stdout",
     "output_type": "stream",
     "text": [
      "Overwriting example.yaml\n"
     ]
    }
   ],
   "source": [
    "%%writefile example.yaml\n",
    "\n",
    "instruments:\n",
    "  lockin:\n",
    "    type: qcodes.instrument_drivers.mock_instruments.MockLockin\n",
    "\n",
    "  dac:\n",
    "    type: qcodes.instrument_drivers.mock_instruments.MockDAC\n",
    "\n",
    "  device:\n",
    "    type: qcodes.instrument.delegate.DelegateInstrument\n",
    "    init:\n",
    "      parameters:\n",
    "        readout: lockin.X\n",
    "      channels:\n",
    "        type: qcodes.instrument_drivers.mock_instruments.MockCustomChannel\n",
    "        gate_1:\n",
    "          channel: dac.ch01\n",
    "          current_valid_range: [-0.5, 0]\n",
    "      set_initial_values_on_load: true\n",
    "      initial_values:\n",
    "        readout: 1e-5"
   ]
  },
  {
   "cell_type": "code",
   "execution_count": 29,
   "id": "2e3ca8d5",
   "metadata": {
    "execution": {
     "iopub.execute_input": "2024-10-29T11:23:27.266311Z",
     "iopub.status.busy": "2024-10-29T11:23:27.265952Z",
     "iopub.status.idle": "2024-10-29T11:23:27.268883Z",
     "shell.execute_reply": "2024-10-29T11:23:27.268433Z"
    }
   },
   "outputs": [],
   "source": [
    "lockin.close()\n",
    "dac.close()"
   ]
  },
  {
   "cell_type": "code",
   "execution_count": 30,
   "id": "2f2d2b2b",
   "metadata": {
    "execution": {
     "iopub.execute_input": "2024-10-29T11:23:27.270535Z",
     "iopub.status.busy": "2024-10-29T11:23:27.270208Z",
     "iopub.status.idle": "2024-10-29T11:23:27.300207Z",
     "shell.execute_reply": "2024-10-29T11:23:27.299743Z"
    }
   },
   "outputs": [],
   "source": [
    "station = qc.Station(config_file=\"example.yaml\")\n",
    "lockin = station.load_lockin()\n",
    "dac = station.load_dac()"
   ]
  },
  {
   "cell_type": "code",
   "execution_count": 31,
   "id": "9cb653b0",
   "metadata": {
    "execution": {
     "iopub.execute_input": "2024-10-29T11:23:27.301801Z",
     "iopub.status.busy": "2024-10-29T11:23:27.301533Z",
     "iopub.status.idle": "2024-10-29T11:23:27.311890Z",
     "shell.execute_reply": "2024-10-29T11:23:27.311324Z"
    }
   },
   "outputs": [],
   "source": [
    "device = station.load_device(station=station)"
   ]
  },
  {
   "cell_type": "code",
   "execution_count": 32,
   "id": "433d9646",
   "metadata": {
    "execution": {
     "iopub.execute_input": "2024-10-29T11:23:27.313658Z",
     "iopub.status.busy": "2024-10-29T11:23:27.313341Z",
     "iopub.status.idle": "2024-10-29T11:23:27.317020Z",
     "shell.execute_reply": "2024-10-29T11:23:27.316583Z"
    }
   },
   "outputs": [
    {
     "data": {
      "text/plain": [
       "<MockCustomChannel: dac_gate_1 of MockDAC: dac>"
      ]
     },
     "execution_count": 32,
     "metadata": {},
     "output_type": "execute_result"
    }
   ],
   "source": [
    "device.gate_1"
   ]
  },
  {
   "cell_type": "code",
   "execution_count": 33,
   "id": "3d2b8faa",
   "metadata": {
    "execution": {
     "iopub.execute_input": "2024-10-29T11:23:27.318508Z",
     "iopub.status.busy": "2024-10-29T11:23:27.318338Z",
     "iopub.status.idle": "2024-10-29T11:23:27.321189Z",
     "shell.execute_reply": "2024-10-29T11:23:27.320740Z"
    }
   },
   "outputs": [],
   "source": [
    "device.gate_1.voltage(-0.3)"
   ]
  },
  {
   "cell_type": "code",
   "execution_count": 34,
   "id": "49def342",
   "metadata": {
    "execution": {
     "iopub.execute_input": "2024-10-29T11:23:27.322842Z",
     "iopub.status.busy": "2024-10-29T11:23:27.322505Z",
     "iopub.status.idle": "2024-10-29T11:23:27.326298Z",
     "shell.execute_reply": "2024-10-29T11:23:27.325831Z"
    }
   },
   "outputs": [
    {
     "data": {
      "text/plain": [
       "-0.3"
      ]
     },
     "execution_count": 34,
     "metadata": {},
     "output_type": "execute_result"
    }
   ],
   "source": [
    "device.gate_1.voltage()"
   ]
  },
  {
   "cell_type": "markdown",
   "id": "7b122128",
   "metadata": {},
   "source": [
    "The MockCustomChannel has a parameter `current_valid_range`."
   ]
  },
  {
   "cell_type": "code",
   "execution_count": 35,
   "id": "d32a06fd",
   "metadata": {
    "execution": {
     "iopub.execute_input": "2024-10-29T11:23:27.328037Z",
     "iopub.status.busy": "2024-10-29T11:23:27.327727Z",
     "iopub.status.idle": "2024-10-29T11:23:27.331637Z",
     "shell.execute_reply": "2024-10-29T11:23:27.331041Z"
    }
   },
   "outputs": [
    {
     "data": {
      "text/plain": [
       "[-0.5, 0]"
      ]
     },
     "execution_count": 35,
     "metadata": {},
     "output_type": "execute_result"
    }
   ],
   "source": [
    "device.gate_1.current_valid_range()"
   ]
  }
 ],
 "metadata": {
  "kernelspec": {
   "display_name": "Python 3 (ipykernel)",
   "language": "python",
   "name": "python3"
  },
  "language_info": {
   "codemirror_mode": {
    "name": "ipython",
    "version": 3
   },
   "file_extension": ".py",
   "mimetype": "text/x-python",
   "name": "python",
   "nbconvert_exporter": "python",
   "pygments_lexer": "ipython3",
   "version": "3.11.10"
  }
 },
 "nbformat": 4,
 "nbformat_minor": 5
}
